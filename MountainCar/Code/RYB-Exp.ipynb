{
  "cells": [
    {
      "cell_type": "code",
      "source": [
        "!pip install swig\n",
        "!pip install gymnasium[classic_control]"
      ],
      "metadata": {
        "colab": {
          "base_uri": "https://localhost:8080/"
        },
        "id": "HYGznt5eGTiA",
        "outputId": "b230a09d-61b6-4b6e-9306-5017b0f393c5"
      },
      "execution_count": 1,
      "outputs": [
        {
          "output_type": "stream",
          "name": "stdout",
          "text": [
            "Collecting swig\n",
            "  Downloading swig-4.2.1-py2.py3-none-manylinux_2_5_x86_64.manylinux1_x86_64.whl (1.9 MB)\n",
            "\u001b[2K     \u001b[90m━━━━━━━━━━━━━━━━━━━━━━━━━━━━━━━━━━━━━━━━\u001b[0m \u001b[32m1.9/1.9 MB\u001b[0m \u001b[31m9.8 MB/s\u001b[0m eta \u001b[36m0:00:00\u001b[0m\n",
            "\u001b[?25hInstalling collected packages: swig\n",
            "Successfully installed swig-4.2.1\n",
            "Collecting gymnasium[classic_control]\n",
            "  Downloading gymnasium-0.29.1-py3-none-any.whl (953 kB)\n",
            "\u001b[2K     \u001b[90m━━━━━━━━━━━━━━━━━━━━━━━━━━━━━━━━━━━━━━━━\u001b[0m \u001b[32m953.9/953.9 kB\u001b[0m \u001b[31m4.6 MB/s\u001b[0m eta \u001b[36m0:00:00\u001b[0m\n",
            "\u001b[?25hRequirement already satisfied: numpy>=1.21.0 in /usr/local/lib/python3.10/dist-packages (from gymnasium[classic_control]) (1.25.2)\n",
            "Requirement already satisfied: cloudpickle>=1.2.0 in /usr/local/lib/python3.10/dist-packages (from gymnasium[classic_control]) (2.2.1)\n",
            "Requirement already satisfied: typing-extensions>=4.3.0 in /usr/local/lib/python3.10/dist-packages (from gymnasium[classic_control]) (4.11.0)\n",
            "Collecting farama-notifications>=0.0.1 (from gymnasium[classic_control])\n",
            "  Downloading Farama_Notifications-0.0.4-py3-none-any.whl (2.5 kB)\n",
            "Requirement already satisfied: pygame>=2.1.3 in /usr/local/lib/python3.10/dist-packages (from gymnasium[classic_control]) (2.5.2)\n",
            "Installing collected packages: farama-notifications, gymnasium\n",
            "Successfully installed farama-notifications-0.0.4 gymnasium-0.29.1\n"
          ]
        }
      ]
    },
    {
      "cell_type": "code",
      "execution_count": 2,
      "metadata": {
        "id": "KfTQETGAJvGb"
      },
      "outputs": [],
      "source": [
        "import gymnasium as gym\n",
        "import math\n",
        "import random\n",
        "import matplotlib\n",
        "import matplotlib.pyplot as plt\n",
        "from collections import namedtuple, deque\n",
        "from itertools import count\n",
        "from torch.utils.data import DataLoader, TensorDataset\n",
        "\n",
        "\n",
        "import torch\n",
        "import torch.nn as nn\n",
        "import torch.optim as optim\n",
        "import torch.nn.functional as F\n",
        "import torch.nn.utils as torch_utils\n",
        "import numpy as np\n",
        "\n",
        "env = gym.make(\"MountainCar-v0\");\n",
        "env._max_episode_steps = 1000\n",
        "# seed = np.random.randint(5000)\n",
        "\n"
      ]
    },
    {
      "cell_type": "code",
      "source": [
        "seed = 4372"
      ],
      "metadata": {
        "id": "WGv-6M_nO_YE"
      },
      "execution_count": 51,
      "outputs": []
    },
    {
      "cell_type": "code",
      "source": [
        "random.seed(seed)\n",
        "np.random.seed(seed)\n",
        "torch.manual_seed(seed)\n",
        "torch.cuda.manual_seed(seed)\n",
        "torch.backends.cudnn.deterministic = True\n",
        "generator = torch.Generator().manual_seed(seed)\n",
        "env.action_space.seed(seed)\n",
        "\n",
        "is_ipython = 'inline' in matplotlib.get_backend()\n",
        "if is_ipython:\n",
        "    from IPython import display\n",
        "\n",
        "plt.ion()\n",
        "\n",
        "\n",
        "device = torch.device(\"cuda\" if torch.cuda.is_available() else \"cpu\")"
      ],
      "metadata": {
        "id": "O_FPNFli84Gj"
      },
      "execution_count": 52,
      "outputs": []
    },
    {
      "cell_type": "code",
      "execution_count": 53,
      "metadata": {
        "colab": {
          "base_uri": "https://localhost:8080/"
        },
        "id": "H74Puz5LViLi",
        "outputId": "e90f97ea-cbc5-47dc-c998-d15564b6f6fc"
      },
      "outputs": [
        {
          "output_type": "execute_result",
          "data": {
            "text/plain": [
              "SimpleClassifier(\n",
              "  (fc1): Linear(in_features=2, out_features=32, bias=True)\n",
              "  (fc2): Linear(in_features=32, out_features=3, bias=True)\n",
              ")"
            ]
          },
          "metadata": {},
          "execution_count": 53
        }
      ],
      "source": [
        "class SimpleClassifier(nn.Module):\n",
        "    def __init__(self, input_size, hidden_size, output_size):\n",
        "        super(SimpleClassifier, self).__init__()\n",
        "        self.fc1 = nn.Linear(input_size, hidden_size)\n",
        "        # self.fc3 = nn.Linear(hidden_size, hidden_size)\n",
        "        self.fc2 = nn.Linear(hidden_size,output_size)\n",
        "\n",
        "    def forward(self, x):\n",
        "        x = torch.relu(self.fc1(x))\n",
        "        # x = torch.relu(self.fc3(x))\n",
        "        x = self.fc2(x)\n",
        "        return x\n",
        "\n",
        "state, info = env.reset(seed = seed)\n",
        "input_size = len(state)\n",
        "hidden_size = 32\n",
        "output_size = env.action_space.n\n",
        "learning_rate = 0.001\n",
        "# clip_value = 1.0\n",
        "\n",
        "device = torch.device(\"cuda\" if torch.cuda.is_available() else \"cpu\")\n",
        "\n",
        "model = SimpleClassifier(input_size, hidden_size, output_size).to(device)\n",
        "crite = nn.CrossEntropyLoss()\n",
        "opti = optim.Adam(model.parameters(), lr=learning_rate)\n",
        "model.to(device)\n"
      ]
    },
    {
      "cell_type": "code",
      "execution_count": 54,
      "metadata": {
        "id": "B6PAsVvgLT-S"
      },
      "outputs": [],
      "source": [
        "Transition = namedtuple('Transition',\n",
        "                        ('state', 'action', 'next_state', 'reward'))\n",
        "\n",
        "\n",
        "class ReplayMemory(object):\n",
        "\n",
        "    def __init__(self, capacity):\n",
        "        self.memory = deque([], maxlen=capacity)\n",
        "\n",
        "    def push(self, *args):\n",
        "        \"\"\"Save a transition\"\"\"\n",
        "        self.memory.append(Transition(*args))\n",
        "\n",
        "    def sample(self, batch_size):\n",
        "        return random.sample(self.memory, batch_size)\n",
        "\n",
        "    def __len__(self):\n",
        "        return len(self.memory)\n",
        "\n",
        "\n",
        "#\n",
        "#\n",
        "\n",
        "\n",
        "class DQN(nn.Module):\n",
        "\n",
        "    def __init__(self, n_observations, n_actions):\n",
        "        super(DQN, self).__init__()\n",
        "        self.layer1 = nn.Linear(n_observations, 128)\n",
        "        self.layer2 = nn.Linear(128, 128)\n",
        "        self.layer3 = nn.Linear(128, n_actions)\n",
        "\n",
        "    def forward(self, x):\n",
        "        x = F.relu(self.layer1(x))\n",
        "        x = F.relu(self.layer2(x))\n",
        "        return self.layer3(x)\n",
        "\n",
        "#\n",
        "#\n",
        "\n"
      ]
    },
    {
      "cell_type": "code",
      "execution_count": 55,
      "metadata": {
        "id": "Hc5S-tYRLsU-"
      },
      "outputs": [],
      "source": [
        "BATCH_SIZE = 64\n",
        "GAMMA = 0.99\n",
        "EPS_START = 0.9\n",
        "EPS_END = 0.05\n",
        "EPS_DECAY = 1000\n",
        "TAU = 0.005\n",
        "LR = 1e-4"
      ]
    },
    {
      "cell_type": "code",
      "execution_count": 56,
      "metadata": {
        "id": "3pAPhG17Lx5m"
      },
      "outputs": [],
      "source": [
        "n_actions = env.action_space.n\n",
        "state, info = env.reset()\n",
        "n_observations = len(state)\n",
        "\n",
        "policy_net = DQN(n_observations, n_actions).to(device)\n",
        "target_net = DQN(n_observations, n_actions).to(device)\n",
        "target_net.load_state_dict(policy_net.state_dict())\n",
        "\n",
        "optimizer = optim.AdamW(policy_net.parameters(), lr=LR, amsgrad=True)\n",
        "\n",
        "memory = ReplayMemory(50000)\n",
        "\n",
        "steps_done_Policy = 0\n",
        "steps_done_Neural = 0\n",
        "steps_done = 0;\n",
        "\n",
        "def select_action(state, nn_action):\n",
        "    global steps_done,steps_done_Policy , steps_done_Neural\n",
        "    sample = random.random()\n",
        "    if(nn_action):\n",
        "      steps_done = steps_done_Neural\n",
        "    else:\n",
        "       steps_done = steps_done_Policy\n",
        "    eps_threshold = EPS_END + (EPS_START - EPS_END) * \\\n",
        "        math.exp(-1. * steps_done / EPS_DECAY)\n",
        "    if(nn_action):\n",
        "      steps_done_Neural+=1\n",
        "    else:\n",
        "      steps_done_Policy+=1\n",
        "    if sample > eps_threshold:\n",
        "        with torch.no_grad():\n",
        "            if (not nn_action):\n",
        "              return policy_net(state).max(1).indices.view(1, 1)\n",
        "            else:\n",
        "                neural_list = model(state)\n",
        "                neural_probs = torch.softmax(neural_list, dim=1)\n",
        "                categorical_dist = torch.distributions.categorical.Categorical(neural_probs)\n",
        "                action = categorical_dist.sample()\n",
        "                return torch.tensor([[action.item()]], device=device, dtype=torch.long)\n",
        "                # return model(state).max(1).indices.view(1, 1)\n",
        "    else:\n",
        "        return torch.tensor([[env.action_space.sample()]], device=device, dtype=torch.long)"
      ]
    },
    {
      "cell_type": "code",
      "execution_count": 57,
      "metadata": {
        "id": "SsMPNyVqMBds"
      },
      "outputs": [],
      "source": [
        "neural_epi = -995    # LunarLander\n",
        "num_epoch = 60\n",
        "neural_data = []\n",
        "final_neural_data = []\n",
        "\n",
        "episode_durations = []    #policy network\n",
        "episode_durations2 = []   #NN\n",
        "\n",
        "\n",
        "trained = False\n",
        "uncertainity_period = False\n",
        "First_trained = -1\n",
        "converge = False\n",
        "converge_step = -1\n",
        "uncertainity_end = False\n",
        "uncertainity_episode = -1\n",
        "\n",
        "\n",
        "def plot_durations(episode , show_result=False):\n",
        "    global uncertainity_period,First_trained,converge,converge_step,uncertainity_once\n",
        "    global uncertainity_episode, uncertainity_end\n",
        "\n",
        "    plt.figure(1)\n",
        "\n",
        "    durations_t = torch.tensor(episode_durations, dtype=torch.float)\n",
        "    durations2_t = torch.tensor(episode_durations2, dtype=torch.float)\n",
        "\n",
        "    if show_result:\n",
        "        plt.title('Result')\n",
        "    else:\n",
        "        plt.clf()\n",
        "        plt.title('Training...')\n",
        "\n",
        "    plt.xlabel('Episode')\n",
        "    plt.ylabel('Duration')\n",
        "\n",
        "    plt.plot(durations_t.numpy(), color='red', label='Policy Net')\n",
        "\n",
        "    if(First_trained!=-1):\n",
        "        end_index = min(First_trained + len(durations2_t), len(durations_t))\n",
        "        plt.plot(range(First_trained, end_index), durations2_t[:end_index - First_trained].numpy(), color='blue', label='Neural Network')\n",
        "\n",
        "    plt.legend()\n",
        "\n",
        "    if((not uncertainity_period) and (not uncertainity_end)):\n",
        "      if len(durations_t) >= 5 and len(durations2_t) >= 5:\n",
        "          if all(d1< d2 for d1, d2 in zip(durations_t[-5:], durations2_t[-5:])):\n",
        "              uncertainity_period = True\n",
        "              uncertainity_episode = episode\n",
        "\n",
        "    if uncertainity_period:\n",
        "      if len(durations_t) >= 15 and len(durations2_t) >= 15:\n",
        "          if all(d1> d2 for d1, d2 in zip(durations_t[-15:], durations2_t[-15:])):\n",
        "              uncertainity_period = False\n",
        "              uncertainity_end = True\n",
        "\n",
        "\n",
        "    if len(durations_t) >= 10 :\n",
        "      if durations_t[-10:].mean().item() >= -190:\n",
        "          converge = True\n",
        "          converge_step = len(durations_t)\n",
        "\n",
        "    plt.pause(0.001)\n",
        "    if is_ipython:\n",
        "        if not show_result:\n",
        "            display.display(plt.gcf())\n",
        "            display.clear_output(wait=True)\n",
        "        else:\n",
        "            display.display(plt.gcf())\n"
      ]
    },
    {
      "cell_type": "code",
      "execution_count": 58,
      "metadata": {
        "id": "atTGzqT_MoYg"
      },
      "outputs": [],
      "source": [
        "def optimize_model():\n",
        "    if len(memory) < BATCH_SIZE:\n",
        "        return\n",
        "    transitions = memory.sample(BATCH_SIZE)\n",
        "    batch = Transition(*zip(*transitions))\n",
        "    non_final_mask = torch.tensor(tuple(map(lambda s: s is not None,\n",
        "                                          batch.next_state)), device=device, dtype=torch.bool)\n",
        "    non_final_next_states = torch.cat([s for s in batch.next_state\n",
        "                                                if s is not None])\n",
        "    state_batch = torch.cat(batch.state)\n",
        "    action_batch = torch.cat(batch.action)\n",
        "    reward_batch = torch.cat(batch.reward)\n",
        "    state_action_values = policy_net(state_batch).gather(1, action_batch)\n",
        "    next_state_values = torch.zeros(BATCH_SIZE, device=device)\n",
        "    with torch.no_grad():\n",
        "        next_state_values[non_final_mask] = target_net(non_final_next_states).max(1).values\n",
        "    expected_state_action_values = (next_state_values * GAMMA) + reward_batch\n",
        "    criterion = nn.SmoothL1Loss()\n",
        "    loss = criterion(state_action_values, expected_state_action_values.unsqueeze(1))\n",
        "    optimizer.zero_grad()\n",
        "    loss.backward()\n",
        "    torch.nn.utils.clip_grad_value_(policy_net.parameters(), 100)\n",
        "    optimizer.step()"
      ]
    },
    {
      "cell_type": "code",
      "source": [
        "if torch.cuda.is_available():\n",
        "    num_episodes = 500\n",
        "else:\n",
        "    num_episodes = 500\n",
        "\n",
        "seed_array = [random.randint(1, 1000) for _ in range(num_episodes)]    #same initial state seeds for all episodes."
      ],
      "metadata": {
        "id": "lvQCgC5xlbGV"
      },
      "execution_count": 59,
      "outputs": []
    },
    {
      "cell_type": "code",
      "execution_count": 60,
      "metadata": {
        "colab": {
          "base_uri": "https://localhost:8080/",
          "height": 527
        },
        "id": "XM-XA4Igp_o7",
        "outputId": "a96021b8-c689-4207-bd4c-d9ee8aa9d70d"
      },
      "outputs": [
        {
          "output_type": "stream",
          "name": "stdout",
          "text": [
            "Complete\n"
          ]
        },
        {
          "output_type": "display_data",
          "data": {
            "text/plain": [
              "<Figure size 640x480 with 1 Axes>"
            ],
            "image/png": "[encoded data removed]"
          },
          "metadata": {}
        },
        {
          "output_type": "display_data",
          "data": {
            "text/plain": [
              "<Figure size 640x480 with 0 Axes>"
            ]
          },
          "metadata": {}
        },
        {
          "output_type": "display_data",
          "data": {
            "text/plain": [
              "<Figure size 640x480 with 0 Axes>"
            ]
          },
          "metadata": {}
        }
      ],
      "source": [
        "for i_episode in range(300):\n",
        "    # if converge:\n",
        "    #   print(\"Converge at step\",converge_step)\n",
        "    #   break\n",
        "\n",
        "    #policy-net\n",
        "    policy_rew = 0\n",
        "    nn_rew = 0\n",
        "    state, info = env.reset(seed = seed_array[i_episode])\n",
        "    state = torch.tensor(state, dtype=torch.float32, device=device).unsqueeze(0)\n",
        "    neural_data.clear()\n",
        "\n",
        "\n",
        "    for t in count():\n",
        "        action = select_action(state,False)\n",
        "        observation, reward, terminated, truncated, _ = env.step(action.item())\n",
        "\n",
        "\n",
        "        reward = torch.tensor([reward], device=device)\n",
        "        policy_rew+=reward\n",
        "\n",
        "        done = terminated or truncated\n",
        "        if terminated:\n",
        "            next_state = None\n",
        "        else:\n",
        "            next_state = torch.tensor(observation, dtype=torch.float32, device=device).unsqueeze(0)\n",
        "\n",
        "        if(not uncertainity_period):\n",
        "            memory.push(state, action, next_state, reward)\n",
        "        neural_data.append((state,action.item()))\n",
        "        state = next_state\n",
        "        optimize_model()\n",
        "        target_net_state_dict = target_net.state_dict()\n",
        "        policy_net_state_dict = policy_net.state_dict()\n",
        "        for key in policy_net_state_dict:\n",
        "            target_net_state_dict[key] = policy_net_state_dict[key]*TAU + target_net_state_dict[key]*(1-TAU)\n",
        "        target_net.load_state_dict(target_net_state_dict)\n",
        "        if done:\n",
        "            episode_durations.append(policy_rew)\n",
        "            if (policy_rew >= neural_epi and (not uncertainity_end)):\n",
        "\n",
        "                if(not trained):\n",
        "                  trained = True\n",
        "                  First_trained = i_episode\n",
        "\n",
        "\n",
        "                final_neural_data.extend(neural_data[-200:])  # Extend final_neural_data with tuples of inputs and labels\n",
        "                neural_epi = max(neural_epi, policy_rew)\n",
        "\n",
        "\n",
        "                for epoch in range(20):\n",
        "                      random.shuffle(neural_data)\n",
        "                      for inputs, label in neural_data[-200:]:\n",
        "                            inputs = inputs.to(device)\n",
        "                            target = torch.tensor(label, dtype=torch.long).unsqueeze(0).to(device)\n",
        "                            outputs = model(inputs)\n",
        "                            loss = crite(outputs, target)\n",
        "                            opti.zero_grad()\n",
        "                            loss.backward()\n",
        "                            opti.step()\n",
        "                for epoch in range(num_epoch-20):\n",
        "                      random.shuffle(final_neural_data)\n",
        "                      for inputs, label in final_neural_data[-1000:]:\n",
        "                            inputs = inputs.to(device)\n",
        "                            target = torch.tensor(label, dtype=torch.long).unsqueeze(0).to(device)\n",
        "                            outputs = model(inputs)\n",
        "                            loss = crite(outputs, target)\n",
        "                            opti.zero_grad()\n",
        "                            loss.backward()\n",
        "                            opti.step()\n",
        "            break\n",
        "\n",
        "    #neural-network\n",
        "    if(trained and (not uncertainity_end)):\n",
        "        neural_data.clear()\n",
        "        nn_rew = 0\n",
        "        state_n, info = env.reset(seed = seed_array[i_episode])\n",
        "        state_n = torch.tensor(state_n, dtype=torch.float32, device=device).unsqueeze(0)\n",
        "        for t in count():\n",
        "          action = select_action(state_n,True)\n",
        "          observation, reward, terminated, truncated, _ = env.step(action.item())\n",
        "\n",
        "          reward = torch.tensor([reward], device=device)\n",
        "\n",
        "          nn_rew+=reward\n",
        "\n",
        "          done = terminated or truncated\n",
        "          if terminated:\n",
        "              next_state = None\n",
        "          else:\n",
        "              next_state = torch.tensor(observation, dtype=torch.float32, device=device).unsqueeze(0)\n",
        "          if(uncertainity_period):\n",
        "            memory.push(state_n, action, next_state, reward)\n",
        "          neural_data.append((state_n,action.item()))\n",
        "\n",
        "          state_n = next_state\n",
        "          if done:\n",
        "              episode_durations2.append(nn_rew)\n",
        "              if nn_rew >= neural_epi:\n",
        "                  neural_epi = max(neural_epi, nn_rew)\n",
        "                  final_neural_data.extend(neural_data[-200:])  # Extend final_neural_data with tuples of inputs and labels\n",
        "\n",
        "\n",
        "                  for epoch in range(20):\n",
        "                      random.shuffle(neural_data)\n",
        "                      for inputs, label in neural_data[-200:]:\n",
        "                            inputs = inputs.to(device)\n",
        "                            target = torch.tensor(label, dtype=torch.long).unsqueeze(0).to(device)\n",
        "                            outputs = model(inputs)\n",
        "                            loss = crite(outputs, target)\n",
        "                            opti.zero_grad()\n",
        "                            loss.backward()\n",
        "                            opti.step()\n",
        "                  for epoch in range(num_epoch-20):\n",
        "                      random.shuffle(final_neural_data)\n",
        "                      for inputs, label in final_neural_data[-1000:]:\n",
        "                            inputs = inputs.to(device)\n",
        "                            target = torch.tensor(label, dtype=torch.long).unsqueeze(0).to(device)\n",
        "                            outputs = model(inputs)\n",
        "                            loss = crite(outputs, target)\n",
        "                            opti.zero_grad()\n",
        "                            loss.backward()\n",
        "                            opti.step()\n",
        "              neural_data.clear()\n",
        "              break\n",
        "    # list1.append(nn_rew-policy_rew)\n",
        "    plot_durations(i_episode)\n",
        "\n",
        "\n",
        "\n",
        "print('Complete')\n",
        "plot_durations(0,show_result=True)\n",
        "plt.ioff()\n",
        "plt.show()"
      ]
    },
    {
      "cell_type": "code",
      "source": [
        "print(len(episode_durations))"
      ],
      "metadata": {
        "id": "ohFnyJe-VyEu",
        "colab": {
          "base_uri": "https://localhost:8080/"
        },
        "outputId": "9800dc27-1fdf-4b5f-8f4f-643e4348177a"
      },
      "execution_count": 61,
      "outputs": [
        {
          "output_type": "stream",
          "name": "stdout",
          "text": [
            "300\n"
          ]
        }
      ]
    },
    {
      "cell_type": "code",
      "source": [
        "uncertainity_period"
      ],
      "metadata": {
        "id": "PJ_IftA0XGlq",
        "colab": {
          "base_uri": "https://localhost:8080/"
        },
        "outputId": "9cc7ca55-a99a-46db-c049-5dfd0bcc5601"
      },
      "execution_count": 62,
      "outputs": [
        {
          "output_type": "execute_result",
          "data": {
            "text/plain": [
              "False"
            ]
          },
          "metadata": {},
          "execution_count": 62
        }
      ]
    },
    {
      "cell_type": "code",
      "source": [
        "file_path = str(seed) + \"_NN.txt\"\n",
        "with open(file_path, \"w\") as file:\n",
        "    for index, item in enumerate(episode_durations):\n",
        "        file.write(f\"{index},{item}\\n\")"
      ],
      "metadata": {
        "id": "aAGnhubm0sB1"
      },
      "execution_count": 63,
      "outputs": []
    },
    {
      "cell_type": "code",
      "source": [
        "file_path = str(seed) + \"_NN.txt\"\n",
        "file_path"
      ],
      "metadata": {
        "id": "XyFE6F4WCc0i",
        "colab": {
          "base_uri": "https://localhost:8080/",
          "height": 36
        },
        "outputId": "484aebb1-8053-4316-e998-9b2a4087a672"
      },
      "execution_count": 64,
      "outputs": [
        {
          "output_type": "execute_result",
          "data": {
            "text/plain": [
              "'4372_NN.txt'"
            ],
            "application/vnd.google.colaboratory.intrinsic+json": {
              "type": "string"
            }
          },
          "metadata": {},
          "execution_count": 64
        }
      ]
    },
    {
      "cell_type": "code",
      "source": [
        "for i in range(11, len(episode_durations)):\n",
        "    mean_val = np.mean(episode_durations[i-10:i])\n",
        "    if mean_val >= -190:\n",
        "        print(i)\n",
        "        break"
      ],
      "metadata": {
        "id": "12ND0n9xHv0W",
        "colab": {
          "base_uri": "https://localhost:8080/"
        },
        "outputId": "b6dae622-e604-462a-fd51-498905fe49aa"
      },
      "execution_count": 65,
      "outputs": [
        {
          "output_type": "stream",
          "name": "stdout",
          "text": [
            "165\n"
          ]
        }
      ]
    },
    {
      "cell_type": "code",
      "source": [],
      "metadata": {
        "id": "TtpdQHZKgXDH"
      },
      "execution_count": 65,
      "outputs": []
    }
  ],
  "metadata": {
    "colab": {
      "provenance": []
    },
    "kernelspec": {
      "display_name": "Python 3",
      "name": "python3"
    },
    "language_info": {
      "codemirror_mode": {
        "name": "ipython",
        "version": 3
      },
      "file_extension": ".py",
      "mimetype": "text/x-python",
      "name": "python",
      "nbconvert_exporter": "python",
      "pygments_lexer": "ipython3",
      "version": "3.8.16"
    }
  },
  "nbformat": 4,
  "nbformat_minor": 0
}