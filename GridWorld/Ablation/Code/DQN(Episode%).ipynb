{
  "cells": [
    {
      "cell_type": "code",
      "execution_count": 1,
      "metadata": {
        "id": "KfTQETGAJvGb"
      },
      "outputs": [],
      "source": [
        "import math\n",
        "import random\n",
        "import matplotlib\n",
        "import matplotlib.pyplot as plt\n",
        "from collections import namedtuple, deque\n",
        "from itertools import count\n",
        "\n",
        "import torch\n",
        "import torch.nn as nn\n",
        "import torch.optim as optim\n",
        "import torch.nn.functional as F\n",
        "import torch.nn.utils as torch_utils\n",
        "import numpy as np\n",
        "\n",
        "seed = 719\n"
      ]
    },
    {
      "cell_type": "code",
      "execution_count": 2,
      "metadata": {
        "colab": {
          "base_uri": "https://localhost:8080/"
        },
        "id": "WGv-6M_nO_YE",
        "outputId": "b65ba037-5dec-43b0-d58c-93545641f391"
      },
      "outputs": [
        {
          "output_type": "execute_result",
          "data": {
            "text/plain": [
              "719"
            ]
          },
          "metadata": {},
          "execution_count": 2
        }
      ],
      "source": [
        "seed"
      ]
    },
    {
      "cell_type": "code",
      "execution_count": 3,
      "metadata": {
        "id": "ehj0SKtZFKT7"
      },
      "outputs": [],
      "source": [
        "grid_size = 6"
      ]
    },
    {
      "cell_type": "code",
      "execution_count": 4,
      "metadata": {
        "id": "O_FPNFli84Gj"
      },
      "outputs": [],
      "source": [
        "random.seed(seed)\n",
        "np.random.seed(seed)\n",
        "torch.manual_seed(seed)\n",
        "torch.cuda.manual_seed(seed)\n",
        "torch.backends.cudnn.deterministic = True\n",
        "generator = torch.Generator().manual_seed(seed)\n",
        "\n",
        "is_ipython = 'inline' in matplotlib.get_backend()\n",
        "if is_ipython:\n",
        "    from IPython import display\n",
        "\n",
        "plt.ion()\n",
        "\n",
        "\n",
        "device = torch.device(\"cuda\" if torch.cuda.is_available() else \"cpu\")"
      ]
    },
    {
      "cell_type": "code",
      "execution_count": 5,
      "metadata": {
        "id": "GdlKRKO-ViOU"
      },
      "outputs": [],
      "source": [
        "def randPair(s,e):\n",
        "    return np.random.randint(s,e), np.random.randint(s,e)\n",
        "\n",
        "def findLoc(state, obj):\n",
        "    l1 = []\n",
        "    for i in range(0,grid_size):\n",
        "        for j in range(0,grid_size):\n",
        "            if (state[i,j] == obj).all():\n",
        "                l1.append((i,j))\n",
        "    return l1\n",
        "\n",
        "\n",
        "def initGridPlayer():\n",
        "    state = np.zeros((grid_size,grid_size,3))\n",
        "\n",
        "    state[randPair(0,grid_size)] = np.array([0,1,0])\n",
        "    state[3,2] = np.array([1,0,0])\n",
        "    state[4,1] = np.array([0,0,1])\n",
        "    state[2,2] = np.array([0,0,1])\n",
        "    state[3,3] = np.array([0,0,1])\n",
        "    state[3,3] = np.array([0,0,1])\n",
        "    state[2,4] = np.array([0,0,1])\n",
        "    state[1,1] = np.array([0,0,1])\n",
        "    state[0,3] = np.array([0,0,1])\n",
        "    a = findLoc(state, np.array([0,1,0])) #find grid position of player (agent)\n",
        "    if (len(a)==0):\n",
        "        return initGridPlayer()\n",
        "\n",
        "    return state\n",
        "\n",
        "\n",
        "def makeMove(state, action):\n",
        "    player_loc = findLoc(state, np.array([0,1,0]))\n",
        "    player_loc = player_loc[0]\n",
        "    goal = findLoc(state, np.array([1,0,0]))\n",
        "    goal = goal[0]\n",
        "\n",
        "    wall_list = findLoc(state, np.array([0,0,1]))\n",
        "    state = np.zeros((grid_size,grid_size,3))\n",
        "\n",
        "    actions = [[-1,0],[1,0],[0,-1],[0,1]]\n",
        "    new_loc = (player_loc[0] + actions[action][0], player_loc[1] + actions[action][1])\n",
        "\n",
        "    if(new_loc not in  wall_list):\n",
        "      if ((np.array(new_loc) <= (grid_size-1,grid_size-1)).all() and (np.array(new_loc) >= (0,0)).all()):\n",
        "              state[new_loc][1] = 1\n",
        "\n",
        "    new_player_loc = findLoc(state, np.array([0,1,0]))\n",
        "    if (len(new_player_loc)==0):\n",
        "        state[player_loc] = np.array([0,1,0])\n",
        "    for i in range(len(wall_list)):\n",
        "          state[wall_list[i]][2] = 1\n",
        "    state[goal][0] = 1\n",
        "\n",
        "    return state\n",
        "\n",
        "\n",
        "def getLoc(state, level):\n",
        "    l1 = []\n",
        "    for i in range(0,grid_size):\n",
        "        for j in range(0,grid_size):\n",
        "            if (state[i,j][level] == 1):\n",
        "                l1.append((i,j))\n",
        "    return l1\n",
        "\n",
        "def getReward(state):\n",
        "    player_loc = getLoc(state, 1)\n",
        "    player_loc = player_loc[0]\n",
        "\n",
        "    goal = getLoc(state, 0)\n",
        "    goal = goal[0]\n",
        "    if (player_loc == goal):\n",
        "        return 100\n",
        "    else:\n",
        "        return -1\n",
        "\n",
        "def dispGrid(state):\n",
        "    grid = np.zeros((grid_size,grid_size), dtype='<U2')\n",
        "    goal = findLoc(state, np.array([1,0,0]))\n",
        "    player_loc = findLoc(state, np.array([0,1,0]))\n",
        "    wall_list = findLoc(state, np.array([0,0,1]))\n",
        "    for i in range(0,grid_size):\n",
        "        for j in range(0,grid_size):\n",
        "            grid[i,j] = ' '\n",
        "\n",
        "    if len(player_loc):\n",
        "        grid[player_loc[0]] = 'P' #player\n",
        "    if len(goal):\n",
        "        grid[goal[0]] = '+' #goal\n",
        "    if len(wall_list):\n",
        "        for i in range(len(wall_list)):\n",
        "          grid[wall_list[i]] = 'W'\n",
        "\n",
        "    return grid"
      ]
    },
    {
      "cell_type": "code",
      "execution_count": 6,
      "metadata": {
        "id": "2HY84IQrCJhR"
      },
      "outputs": [],
      "source": [
        "s = initGridPlayer()"
      ]
    },
    {
      "cell_type": "code",
      "execution_count": 7,
      "metadata": {
        "colab": {
          "base_uri": "https://localhost:8080/"
        },
        "id": "5EXH8uxVHcvu",
        "outputId": "a989581b-4eee-4e2a-ebbc-5aa8b6d9bb47"
      },
      "outputs": [
        {
          "output_type": "execute_result",
          "data": {
            "text/plain": [
              "array([[' ', ' ', ' ', 'W', ' ', ' '],\n",
              "       [' ', 'W', ' ', ' ', ' ', ' '],\n",
              "       [' ', ' ', 'W', ' ', 'W', ' '],\n",
              "       [' ', ' ', '+', 'W', ' ', ' '],\n",
              "       [' ', 'W', ' ', ' ', ' ', ' '],\n",
              "       [' ', 'P', ' ', ' ', ' ', ' ']], dtype='<U2')"
            ]
          },
          "metadata": {},
          "execution_count": 7
        }
      ],
      "source": [
        "dispGrid(s)"
      ]
    },
    {
      "cell_type": "code",
      "source": [
        "key_value_pairs = [\n",
        "    ((0, 0), 1), ((0, 1), 2), ((0, 2), 2), ((0, 4), 1), ((0, 4), 3), ((0, 5), 1),\n",
        "    ((1, 0), 1), ((1, 2), 0), ((1, 3), 2), ((1, 3), 3), ((1, 4), 3), ((1, 5), 1),\n",
        "    ((2, 0), 1), ((2, 0), 3), ((2, 1), 1), ((2, 3), 0), ((2, 5), 1), ((3, 0), 3),\n",
        "    ((3, 1), 3), ((3, 4), 1), ((3, 5), 1), ((3, 5), 2), ((4, 0), 0), ((4, 2), 0),\n",
        "    ((4, 3), 2), ((4, 4), 2), ((4, 5), 2), ((5, 0), 0), ((5, 0), 3), ((5, 1), 3),\n",
        "    ((5, 2), 0), ((5, 3), 0), ((5, 3), 2), ((5, 4), 0), ((5, 4), 2), ((5, 5), 0),\n",
        "    ((5, 5), 2)\n",
        "]\n",
        "\n",
        "# Convert key-value pairs to a set of tuples\n",
        "key_value_set = set(key_value_pairs)"
      ],
      "metadata": {
        "id": "l2-sx7QceiSe"
      },
      "execution_count": 8,
      "outputs": []
    },
    {
      "cell_type": "code",
      "execution_count": 9,
      "metadata": {
        "id": "ZT2EEkNctQ6z"
      },
      "outputs": [],
      "source": [
        "correct_rewards = np.array([[96, 95, 94,  0, 92, 93],\n",
        "                          [97,  0, 93, 92, 93, 94],\n",
        "                          [98, 99,  0, 91,  0, 95],\n",
        "                          [99, 100,  0,  0, 97, 96],\n",
        "                          [98,  0, 100, 99, 98, 97],\n",
        "                          [97, 98, 99, 98, 97, 96]], dtype=np.int32)"
      ]
    },
    {
      "cell_type": "code",
      "execution_count": 10,
      "metadata": {
        "colab": {
          "base_uri": "https://localhost:8080/"
        },
        "id": "H74Puz5LViLi",
        "outputId": "43786d2e-5e41-4e12-91e7-5d49c2069ab4"
      },
      "outputs": [
        {
          "output_type": "execute_result",
          "data": {
            "text/plain": [
              "SimpleClassifier(\n",
              "  (fc1): Linear(in_features=2, out_features=32, bias=True)\n",
              "  (fc2): Linear(in_features=32, out_features=4, bias=True)\n",
              ")"
            ]
          },
          "metadata": {},
          "execution_count": 10
        }
      ],
      "source": [
        "class SimpleClassifier(nn.Module):\n",
        "    def __init__(self, input_size, hidden_size, output_size):\n",
        "        super(SimpleClassifier, self).__init__()\n",
        "        self.fc1 = nn.Linear(input_size, hidden_size)\n",
        "#         self.fc3 = nn.Linear(hidden_size, hidden_size)\n",
        "        self.fc2 = nn.Linear(hidden_size,output_size)\n",
        "\n",
        "    def forward(self, x):\n",
        "        x = torch.relu(self.fc1(x))\n",
        "#         x = torch.relu(self.fc3(x))\n",
        "        x = self.fc2(x)\n",
        "        return x\n",
        "\n",
        "\n",
        "input_size = 2\n",
        "hidden_size = 32\n",
        "output_size = 4\n",
        "learning_rate = 0.001\n",
        "# clip_value = 1.0\n",
        "\n",
        "device = torch.device(\"cuda\" if torch.cuda.is_available() else \"cpu\")\n",
        "\n",
        "model = SimpleClassifier(input_size, hidden_size, output_size).to(device)\n",
        "crite = nn.CrossEntropyLoss()\n",
        "opti = optim.Adam(model.parameters(), lr=learning_rate)\n",
        "model.to(device)\n"
      ]
    },
    {
      "cell_type": "code",
      "execution_count": 11,
      "metadata": {
        "id": "B6PAsVvgLT-S"
      },
      "outputs": [],
      "source": [
        "Transition = namedtuple('Transition',\n",
        "                        ('state', 'action', 'next_state', 'reward'))\n",
        "\n",
        "\n",
        "class ReplayMemory(object):\n",
        "\n",
        "    def __init__(self, capacity):\n",
        "        self.memory = deque([], maxlen=capacity)\n",
        "\n",
        "    def push(self, *args):\n",
        "        \"\"\"Save a transition\"\"\"\n",
        "        self.memory.append(Transition(*args))\n",
        "\n",
        "    def sample(self, batch_size):\n",
        "        return random.sample(self.memory, batch_size)\n",
        "\n",
        "    def __len__(self):\n",
        "        return len(self.memory)\n",
        "\n",
        "\n",
        "#\n",
        "#\n",
        "\n",
        "\n",
        "class DQN(nn.Module):\n",
        "\n",
        "    def __init__(self, n_observations, n_actions):\n",
        "        super(DQN, self).__init__()\n",
        "        self.layer1 = nn.Linear(n_observations, 128)\n",
        "        self.layer2 = nn.Linear(128, 128)\n",
        "        self.layer3 = nn.Linear(128, n_actions)\n",
        "\n",
        "    def forward(self, x):\n",
        "        x = F.relu(self.layer1(x))\n",
        "        x = F.relu(self.layer2(x))\n",
        "        return self.layer3(x)\n",
        "\n",
        "#\n",
        "#\n",
        "\n"
      ]
    },
    {
      "cell_type": "code",
      "execution_count": 12,
      "metadata": {
        "id": "Hc5S-tYRLsU-"
      },
      "outputs": [],
      "source": [
        "BATCH_SIZE = 64\n",
        "GAMMA = 0.99\n",
        "TAU = 0.005\n",
        "LR = 1e-4"
      ]
    },
    {
      "cell_type": "code",
      "execution_count": 13,
      "metadata": {
        "id": "3pAPhG17Lx5m"
      },
      "outputs": [],
      "source": [
        "n_actions = 4\n",
        "n_observations = 2\n",
        "\n",
        "policy_net = DQN(n_observations, n_actions).to(device)\n",
        "target_net = DQN(n_observations, n_actions).to(device)\n",
        "target_net.load_state_dict(policy_net.state_dict())\n",
        "\n",
        "optimizer = optim.AdamW(policy_net.parameters(), lr=LR, amsgrad=True)\n",
        "\n",
        "memory = ReplayMemory(1500)\n",
        "\n",
        "\n",
        "eps_policy = 1\n",
        "eps_nn = 1\n",
        "\n",
        "\n",
        "def select_action(state, nn_action):\n",
        "    global eps_policy, eps_nn\n",
        "    sample = random.random()\n",
        "    steps_done =0\n",
        "    if(nn_action):\n",
        "        eps_threshold = eps_nn\n",
        "    else:\n",
        "        eps_threshold = eps_policy\n",
        "\n",
        "    if sample > eps_threshold:\n",
        "        with torch.no_grad():\n",
        "            if (not nn_action):\n",
        "              return policy_net(state).max(1).indices.view(1, 1)\n",
        "            else:\n",
        "                neural_list = model(state)\n",
        "                neural_probs = torch.softmax(neural_list, dim=1)\n",
        "                categorical_dist = torch.distributions.categorical.Categorical(neural_probs)\n",
        "                action = categorical_dist.sample()\n",
        "                return torch.tensor([[action.item()]], device=device, dtype=torch.long)\n",
        "    else:\n",
        "        return torch.tensor([[np.random.randint(0,4)]], device=device, dtype=torch.long)"
      ]
    },
    {
      "cell_type": "code",
      "execution_count": 14,
      "metadata": {
        "id": "SsMPNyVqMBds"
      },
      "outputs": [],
      "source": [
        "# num_epoch = 20\n",
        "neural_data = []\n",
        "final_neural_data = []\n",
        "\n",
        "episode_durations = []\n",
        "episode_durations2 = []\n",
        "distances = []\n",
        "\n",
        "\n",
        "uncertainity_period = False\n",
        "after_uncertainity = False\n",
        "First_trained = -1\n",
        "converge_step = -1\n",
        "\n",
        "\n",
        "def plot_durations(show_result=False):\n",
        "    global uncertainity_period,First_trained,converge,converge_step,after_uncertainity\n",
        "\n",
        "    plt.figure(1)\n",
        "\n",
        "    durations_t = torch.tensor(episode_durations, dtype=torch.float)\n",
        "    durations2_t = torch.tensor(episode_durations2, dtype=torch.float)\n",
        "\n",
        "    if show_result:\n",
        "        plt.title('Result')\n",
        "    else:\n",
        "        plt.clf()\n",
        "        plt.title('Training...')\n",
        "\n",
        "    plt.xlabel('Episode')\n",
        "    plt.ylabel('Duration')\n",
        "\n",
        "    plt.plot(durations_t.numpy(), color='Green', label='Policy Net')\n",
        "\n",
        "    if(First_trained!=-1):\n",
        "        end_index = min(First_trained + len(durations2_t), len(durations_t))\n",
        "        plt.plot(range(First_trained, end_index), durations2_t[:end_index - First_trained].numpy(), color='blue', label='Neural Network')\n",
        "\n",
        "    plt.legend()\n",
        "\n",
        "    if(uncertainity_period):\n",
        "      if len(durations2_t) >= 10:\n",
        "        if all(duration >= -10 for duration in durations2_t[-10:]):\n",
        "              uncertainity_period = False\n",
        "              after_uncertainity = True\n",
        "\n",
        "    if len(durations_t) >= 10:\n",
        "        if all(duration >= -10 for duration in durations_t[-10:]):\n",
        "            converge_step = len(durations_t)\n",
        "\n",
        "    plt.pause(0.001)\n",
        "    if is_ipython:\n",
        "        if not show_result:\n",
        "            display.display(plt.gcf())\n",
        "            display.clear_output(wait=True)\n",
        "        else:\n",
        "            display.display(plt.gcf())\n"
      ]
    },
    {
      "cell_type": "code",
      "execution_count": 15,
      "metadata": {
        "id": "atTGzqT_MoYg"
      },
      "outputs": [],
      "source": [
        "def optimize_model():\n",
        "    if len(memory) < BATCH_SIZE:\n",
        "        return\n",
        "    transitions = memory.sample(BATCH_SIZE)\n",
        "    batch = Transition(*zip(*transitions))\n",
        "    non_final_mask = torch.tensor(tuple(map(lambda s: s is not None,\n",
        "                                          batch.next_state)), device=device, dtype=torch.bool)\n",
        "    non_final_next_states = torch.cat([s for s in batch.next_state\n",
        "                                                if s is not None])\n",
        "    state_batch = torch.cat(batch.state)\n",
        "    action_batch = torch.cat(batch.action)\n",
        "    reward_batch = torch.cat(batch.reward)\n",
        "    state_action_values = policy_net(state_batch).gather(1, action_batch)\n",
        "    next_state_values = torch.zeros(BATCH_SIZE, device=device)\n",
        "    with torch.no_grad():\n",
        "        next_state_values[non_final_mask] = target_net(non_final_next_states).max(1).values\n",
        "    expected_state_action_values = (next_state_values * GAMMA) + reward_batch\n",
        "    criterion = nn.SmoothL1Loss()\n",
        "    loss = criterion(state_action_values, expected_state_action_values.unsqueeze(1))\n",
        "    optimizer.zero_grad()\n",
        "    loss.backward()\n",
        "    torch.nn.utils.clip_grad_value_(policy_net.parameters(), 100)\n",
        "    optimizer.step()"
      ]
    },
    {
      "cell_type": "code",
      "execution_count": 16,
      "metadata": {
        "id": "lvQCgC5xlbGV"
      },
      "outputs": [],
      "source": [
        "if torch.cuda.is_available():\n",
        "    num_episodes = 3000\n",
        "else:\n",
        "    num_episodes = 3000\n",
        "\n",
        "initial_states = [initGridPlayer() for _ in range(num_episodes)]\n"
      ]
    },
    {
      "cell_type": "code",
      "execution_count": 17,
      "metadata": {
        "colab": {
          "base_uri": "https://localhost:8080/"
        },
        "id": "-ShUrGhvJNgT",
        "outputId": "f2a551af-7c95-46ed-aebf-57e83197f005"
      },
      "outputs": [
        {
          "output_type": "execute_result",
          "data": {
            "text/plain": [
              "array([[' ', ' ', ' ', 'W', ' ', ' '],\n",
              "       [' ', 'W', ' ', ' ', ' ', ' '],\n",
              "       [' ', ' ', 'W', ' ', 'W', 'P'],\n",
              "       [' ', ' ', '+', 'W', ' ', ' '],\n",
              "       [' ', 'W', ' ', ' ', ' ', ' '],\n",
              "       [' ', ' ', ' ', ' ', ' ', ' ']], dtype='<U2')"
            ]
          },
          "metadata": {},
          "execution_count": 17
        }
      ],
      "source": [
        "dispGrid(initial_states[18])"
      ]
    },
    {
      "cell_type": "code",
      "execution_count": 18,
      "metadata": {
        "id": "URFyFnFDheGk"
      },
      "outputs": [],
      "source": [
        "def remember_best(neural_data):\n",
        "\n",
        "  remover = []\n",
        "  tensor_map = {}\n",
        "\n",
        "  for i in range(len(neural_data) - 1, -1, -1):\n",
        "\n",
        "      current_tensor, _ = neural_data[i]\n",
        "      current_tuple = (int(current_tensor[0][0].item()), int(current_tensor[0][1].item()))\n",
        "\n",
        "      if current_tuple in tensor_map:\n",
        "          tensor_map[current_tuple] += 1\n",
        "      else:\n",
        "          tensor_map[current_tuple] = 1\n",
        "\n",
        "      if(tensor_map[current_tuple]>1):\n",
        "        remover.append(i)\n",
        "\n",
        "  for index in (remover):\n",
        "      del neural_data[index]\n",
        "\n",
        "  return neural_data\n",
        "\n"
      ]
    },
    {
      "cell_type": "code",
      "source": [
        "def best(l1):\n",
        "\n",
        "  remover = []\n",
        "  for _ in range(len(l1)):\n",
        "      remover.append(0)\n",
        "\n",
        "\n",
        "  for i in range (len(l1)):\n",
        "    tensor_from_tuple, val = l1[i]\n",
        "\n",
        "    # Step 2: Convert the tensor to a list and then to a tuple\n",
        "    tensor_tuple = tuple(tensor_from_tuple[0].tolist())\n",
        "\n",
        "    # Step 3: Access the elements of the tuple\n",
        "    element_1 = int(tensor_tuple[0])\n",
        "    element_2 = int(tensor_tuple[1])\n",
        "    new_tuple = (element_1, element_2)\n",
        "\n",
        "    if (new_tuple, val) in key_value_set:\n",
        "      remover[i] = 1\n",
        "\n",
        "  return remover\n",
        "\n"
      ],
      "metadata": {
        "id": "mkzJtiCKOv0X"
      },
      "execution_count": 19,
      "outputs": []
    },
    {
      "cell_type": "code",
      "execution_count": 20,
      "metadata": {
        "id": "TBIHYkpidSRo"
      },
      "outputs": [],
      "source": [
        "def train_nn():\n",
        "    global neural_data\n",
        "\n",
        "    neural_data = remember_best(neural_data)\n",
        "\n",
        "    final_neural_data.extend(neural_data)\n",
        "    for epoch in range(30):\n",
        "        for inputs, label in neural_data:\n",
        "            inputs = inputs.to(device)\n",
        "            target = torch.tensor(label, dtype=torch.long).unsqueeze(0).to(device)\n",
        "            outputs = model(inputs)\n",
        "            loss = crite(outputs, target)\n",
        "            opti.zero_grad()\n",
        "            loss.backward()\n",
        "            opti.step()\n",
        "\n",
        "    for epoch in range(15):\n",
        "      random.shuffle(final_neural_data)\n",
        "      for inputs, label in final_neural_data[-200:]:\n",
        "          inputs = inputs.to(device)\n",
        "          target = torch.tensor(label, dtype=torch.long).unsqueeze(0).to(device)\n",
        "          outputs = model(inputs)\n",
        "          loss = crite(outputs, target)\n",
        "          opti.zero_grad()\n",
        "          loss.backward()\n",
        "          opti.step()\n"
      ]
    },
    {
      "cell_type": "code",
      "source": [
        "lPN = []"
      ],
      "metadata": {
        "id": "cZgO97ezOzAi"
      },
      "execution_count": 21,
      "outputs": []
    },
    {
      "cell_type": "code",
      "source": [
        "percentPN = []"
      ],
      "metadata": {
        "id": "31TjBpKXS6x9"
      },
      "execution_count": 22,
      "outputs": []
    },
    {
      "cell_type": "code",
      "execution_count": 23,
      "metadata": {
        "colab": {
          "base_uri": "https://localhost:8080/",
          "height": 524
        },
        "id": "Pboyp0QYnuqb",
        "outputId": "396a98d8-6cb4-445a-ed92-72046754334e"
      },
      "outputs": [
        {
          "output_type": "stream",
          "name": "stdout",
          "text": [
            "Complete\n"
          ]
        },
        {
          "output_type": "display_data",
          "data": {
            "text/plain": [
              "<Figure size 640x480 with 1 Axes>"
            ],
            "image/png": "[encoded data removed]"
          },
          "metadata": {}
        },
        {
          "output_type": "display_data",
          "data": {
            "text/plain": [
              "<Figure size 640x480 with 0 Axes>"
            ]
          },
          "metadata": {}
        },
        {
          "output_type": "display_data",
          "data": {
            "text/plain": [
              "<Figure size 640x480 with 0 Axes>"
            ]
          },
          "metadata": {}
        }
      ],
      "source": [
        "for i_episode in range(500):\n",
        "\n",
        "    #policy-net\n",
        "    policy_rew = 0\n",
        "    state = initial_states[i_episode]\n",
        "    x,y = findLoc(initial_states[i_episode], np.array([0,1,0]))[0]\n",
        "    reward = 0\n",
        "\n",
        "    l1= []\n",
        "\n",
        "\n",
        "    for t in range(50):\n",
        "        state2d  = getLoc(state,1)[0]\n",
        "        state2d = torch.tensor(list(state2d), dtype=torch.float32, device=device).unsqueeze(0)\n",
        "        action = select_action(state2d,False)\n",
        "        next_state = makeMove(state, action.item())\n",
        "        reward = getReward(next_state)\n",
        "        policy_rew += reward\n",
        "        reward = torch.tensor([reward], device=device)\n",
        "        next_state2d = getLoc(next_state,1)[0]\n",
        "        next_state2d = torch.tensor(list(next_state2d), dtype=torch.float32, device=device).unsqueeze(0)\n",
        "        if(not uncertainity_period):\n",
        "            memory.push(state2d, action, next_state2d, reward)\n",
        "        neural_data.append((state2d,action.item()))\n",
        "        l1.append((state2d,action.item()))\n",
        "        state = next_state\n",
        "        optimize_model()\n",
        "        target_net_state_dict = target_net.state_dict()\n",
        "        policy_net_state_dict = policy_net.state_dict()\n",
        "        for key in policy_net_state_dict:\n",
        "            target_net_state_dict[key] = policy_net_state_dict[key]*TAU + target_net_state_dict[key]*(1-TAU)\n",
        "        target_net.load_state_dict(target_net_state_dict)\n",
        "\n",
        "        # if ((reward == 100) and (after_uncertainity == False)):\n",
        "        #     uncertainity_period = True\n",
        "        #     if First_trained == -1 :\n",
        "        #         First_trained = i_episode\n",
        "        #     train_nn()\n",
        "\n",
        "\n",
        "\n",
        "        if ((reward == 100) or (t==49)):\n",
        "            neural_data.clear()\n",
        "            difference = policy_rew - correct_rewards[x,y]\n",
        "            episode_durations.append(difference)\n",
        "            if(eps_policy>0.04):\n",
        "              eps_policy -= (1/25)\n",
        "            break\n",
        "\n",
        "\n",
        "\n",
        "    # if(uncertainity_period):\n",
        "    #     neural_data.clear()\n",
        "    #     nn_rew = 0\n",
        "    #     state_n  = initial_states[i_episode]\n",
        "    #     for t in range(50):\n",
        "    #       state_n2d = getLoc(state_n,1)[0]\n",
        "    #       state_n2d = torch.tensor(list(state_n2d), dtype=torch.float32, device=device).unsqueeze(0)\n",
        "    #       action = select_action(state_n2d,True)\n",
        "    #       next_state = makeMove(state_n, action.item())\n",
        "    #       reward = getReward(next_state)\n",
        "    #       nn_rew += reward\n",
        "    #       reward = torch.tensor([reward], device=device)\n",
        "    #       next_state2d = getLoc(next_state,1)[0]\n",
        "    #       next_state2d = torch.tensor(list(next_state2d), dtype=torch.float32, device=device).unsqueeze(0)\n",
        "    #       memory.push(state_n2d, action, next_state2d, reward)\n",
        "    #       neural_data.append((state_n2d,action.item()))\n",
        "    #       state_n = next_state\n",
        "\n",
        "    #       if ((reward == 100)):\n",
        "    #           train_nn()\n",
        "\n",
        "    #       if ((reward == 100) or (t==49)):\n",
        "    #           neural_data.clear()\n",
        "    #           if(eps_nn>0.04):\n",
        "    #             eps_nn -= (1/25)\n",
        "    #           difference = nn_rew - correct_rewards[x,y]\n",
        "    #           episode_durations2.append(difference)\n",
        "    #           break\n",
        "    plot_durations()\n",
        "    # total_transitions = len(memory)\n",
        "    # flag_1_count = sum(1 for transition in memory.memory if transition.flag == 1)\n",
        "    # percentage = (flag_1_count / total_transitions) * 100 if total_transitions != 0 else 0\n",
        "    # percentPN.append(int(percentage))\n",
        "    remover = best(l1)\n",
        "    lPN.append(remover)\n",
        "\n",
        "\n",
        "\n",
        "print('Complete')\n",
        "plot_durations(show_result=True)\n",
        "plt.ioff()\n",
        "plt.show()"
      ]
    },
    {
      "cell_type": "code",
      "source": [
        "seed = 719"
      ],
      "metadata": {
        "id": "SoAD2CnrZGtL"
      },
      "execution_count": 24,
      "outputs": []
    },
    {
      "cell_type": "code",
      "source": [
        "grid_size = 6"
      ],
      "metadata": {
        "id": "fMclQIlX0jCe"
      },
      "execution_count": 25,
      "outputs": []
    },
    {
      "cell_type": "code",
      "source": [
        "random.seed(seed)\n",
        "np.random.seed(seed)\n",
        "torch.manual_seed(seed)\n",
        "torch.cuda.manual_seed(seed)\n",
        "torch.backends.cudnn.deterministic = True\n",
        "generator = torch.Generator().manual_seed(seed)\n",
        "\n",
        "is_ipython = 'inline' in matplotlib.get_backend()\n",
        "if is_ipython:\n",
        "    from IPython import display\n",
        "\n",
        "plt.ion()\n",
        "\n",
        "\n",
        "device = torch.device(\"cuda\" if torch.cuda.is_available() else \"cpu\")"
      ],
      "metadata": {
        "id": "j72rx6J70oXi"
      },
      "execution_count": 26,
      "outputs": []
    },
    {
      "cell_type": "code",
      "source": [
        "def randPair(s,e):\n",
        "    return np.random.randint(s,e), np.random.randint(s,e)\n",
        "\n",
        "def findLoc(state, obj):\n",
        "    l1 = []\n",
        "    for i in range(0,grid_size):\n",
        "        for j in range(0,grid_size):\n",
        "            if (state[i,j] == obj).all():\n",
        "                l1.append((i,j))\n",
        "    return l1\n",
        "\n",
        "\n",
        "def initGridPlayer():\n",
        "    state = np.zeros((grid_size,grid_size,3))\n",
        "\n",
        "    state[randPair(0,grid_size)] = np.array([0,1,0])\n",
        "    state[3,2] = np.array([1,0,0])\n",
        "    state[4,1] = np.array([0,0,1])\n",
        "    state[2,2] = np.array([0,0,1])\n",
        "    state[3,3] = np.array([0,0,1])\n",
        "    state[3,3] = np.array([0,0,1])\n",
        "    state[2,4] = np.array([0,0,1])\n",
        "    state[1,1] = np.array([0,0,1])\n",
        "    state[0,3] = np.array([0,0,1])\n",
        "    a = findLoc(state, np.array([0,1,0])) #find grid position of player (agent)\n",
        "    if (len(a)==0):\n",
        "        return initGridPlayer()\n",
        "\n",
        "    return state\n",
        "\n",
        "\n",
        "def makeMove(state, action):\n",
        "    player_loc = findLoc(state, np.array([0,1,0]))\n",
        "    player_loc = player_loc[0]\n",
        "    goal = findLoc(state, np.array([1,0,0]))\n",
        "    goal = goal[0]\n",
        "\n",
        "    wall_list = findLoc(state, np.array([0,0,1]))\n",
        "    state = np.zeros((grid_size,grid_size,3))\n",
        "\n",
        "    actions = [[-1,0],[1,0],[0,-1],[0,1]]\n",
        "    new_loc = (player_loc[0] + actions[action][0], player_loc[1] + actions[action][1])\n",
        "\n",
        "    if(new_loc not in  wall_list):\n",
        "      if ((np.array(new_loc) <= (grid_size-1,grid_size-1)).all() and (np.array(new_loc) >= (0,0)).all()):\n",
        "              state[new_loc][1] = 1\n",
        "\n",
        "    new_player_loc = findLoc(state, np.array([0,1,0]))\n",
        "    if (len(new_player_loc)==0):\n",
        "        state[player_loc] = np.array([0,1,0])\n",
        "    for i in range(len(wall_list)):\n",
        "          state[wall_list[i]][2] = 1\n",
        "    state[goal][0] = 1\n",
        "\n",
        "    return state\n",
        "\n",
        "\n",
        "def getLoc(state, level):\n",
        "    l1 = []\n",
        "    for i in range(0,grid_size):\n",
        "        for j in range(0,grid_size):\n",
        "            if (state[i,j][level] == 1):\n",
        "                l1.append((i,j))\n",
        "    return l1\n",
        "\n",
        "def getReward(state):\n",
        "    player_loc = getLoc(state, 1)\n",
        "    player_loc = player_loc[0]\n",
        "\n",
        "    goal = getLoc(state, 0)\n",
        "    goal = goal[0]\n",
        "    if (player_loc == goal):\n",
        "        return 100\n",
        "    else:\n",
        "        return -1\n",
        "\n",
        "def dispGrid(state):\n",
        "    grid = np.zeros((grid_size,grid_size), dtype='<U2')\n",
        "    goal = findLoc(state, np.array([1,0,0]))\n",
        "    player_loc = findLoc(state, np.array([0,1,0]))\n",
        "    wall_list = findLoc(state, np.array([0,0,1]))\n",
        "    for i in range(0,grid_size):\n",
        "        for j in range(0,grid_size):\n",
        "            grid[i,j] = ' '\n",
        "\n",
        "    if len(player_loc):\n",
        "        grid[player_loc[0]] = 'P' #player\n",
        "    if len(goal):\n",
        "        grid[goal[0]] = '+' #goal\n",
        "    if len(wall_list):\n",
        "        for i in range(len(wall_list)):\n",
        "          grid[wall_list[i]] = 'W'\n",
        "\n",
        "    return grid"
      ],
      "metadata": {
        "id": "bpfbpFIG0pHt"
      },
      "execution_count": 27,
      "outputs": []
    },
    {
      "cell_type": "code",
      "source": [
        "s = initGridPlayer()"
      ],
      "metadata": {
        "id": "BP3jMh-_0uBB"
      },
      "execution_count": 28,
      "outputs": []
    },
    {
      "cell_type": "code",
      "source": [
        "dispGrid(s)"
      ],
      "metadata": {
        "colab": {
          "base_uri": "https://localhost:8080/"
        },
        "id": "j3dOUXlq0w4M",
        "outputId": "13577205-5326-4b33-8c9b-df311027f621"
      },
      "execution_count": 29,
      "outputs": [
        {
          "output_type": "execute_result",
          "data": {
            "text/plain": [
              "array([[' ', ' ', ' ', 'W', ' ', ' '],\n",
              "       [' ', 'W', ' ', ' ', ' ', ' '],\n",
              "       [' ', ' ', 'W', ' ', 'W', ' '],\n",
              "       [' ', ' ', '+', 'W', ' ', ' '],\n",
              "       [' ', 'W', ' ', ' ', ' ', ' '],\n",
              "       [' ', 'P', ' ', ' ', ' ', ' ']], dtype='<U2')"
            ]
          },
          "metadata": {},
          "execution_count": 29
        }
      ]
    },
    {
      "cell_type": "code",
      "source": [
        "correct_rewards = np.array([[96, 95, 94,  0, 92, 93],\n",
        "                          [97,  0, 93, 92, 93, 94],\n",
        "                          [98, 99,  0, 91,  0, 95],\n",
        "                          [99, 100,  0,  0, 97, 96],\n",
        "                          [98,  0, 100, 99, 98, 97],\n",
        "                          [97, 98, 99, 98, 97, 96]], dtype=np.int32)"
      ],
      "metadata": {
        "id": "NYQDftxS0yXq"
      },
      "execution_count": 30,
      "outputs": []
    },
    {
      "cell_type": "code",
      "source": [
        "class SimpleClassifier(nn.Module):\n",
        "    def __init__(self, input_size, hidden_size, output_size):\n",
        "        super(SimpleClassifier, self).__init__()\n",
        "        self.fc1 = nn.Linear(input_size, hidden_size)\n",
        "#         self.fc3 = nn.Linear(hidden_size, hidden_size)\n",
        "        self.fc2 = nn.Linear(hidden_size,output_size)\n",
        "\n",
        "    def forward(self, x):\n",
        "        x = torch.relu(self.fc1(x))\n",
        "#         x = torch.relu(self.fc3(x))\n",
        "        x = self.fc2(x)\n",
        "        return x\n",
        "\n",
        "\n",
        "input_size = 2\n",
        "hidden_size = 32\n",
        "output_size = 4\n",
        "learning_rate = 0.001\n",
        "# clip_value = 1.0\n",
        "\n",
        "device = torch.device(\"cuda\" if torch.cuda.is_available() else \"cpu\")\n",
        "\n",
        "model = SimpleClassifier(input_size, hidden_size, output_size).to(device)\n",
        "crite = nn.CrossEntropyLoss()\n",
        "opti = optim.Adam(model.parameters(), lr=learning_rate)\n",
        "model.to(device)\n"
      ],
      "metadata": {
        "colab": {
          "base_uri": "https://localhost:8080/"
        },
        "id": "5poQuqVD0z5B",
        "outputId": "61e2074a-0c04-4844-b9cb-1bfe36d892db"
      },
      "execution_count": 31,
      "outputs": [
        {
          "output_type": "execute_result",
          "data": {
            "text/plain": [
              "SimpleClassifier(\n",
              "  (fc1): Linear(in_features=2, out_features=32, bias=True)\n",
              "  (fc2): Linear(in_features=32, out_features=4, bias=True)\n",
              ")"
            ]
          },
          "metadata": {},
          "execution_count": 31
        }
      ]
    },
    {
      "cell_type": "code",
      "source": [
        "Transition = namedtuple('Transition',\n",
        "                        ('state', 'action', 'next_state', 'reward' , 'flag'))\n",
        "\n",
        "\n",
        "class ReplayMemory(object):\n",
        "\n",
        "    def __init__(self, capacity):\n",
        "        self.memory = deque([], maxlen=capacity)\n",
        "\n",
        "    def push(self, *args):\n",
        "        \"\"\"Save a transition\"\"\"\n",
        "        self.memory.append(Transition(*args))\n",
        "\n",
        "    def sample(self, batch_size):\n",
        "        return random.sample(self.memory, batch_size)\n",
        "\n",
        "    def __len__(self):\n",
        "        return len(self.memory)\n",
        "\n",
        "\n",
        "#\n",
        "#\n",
        "\n",
        "\n",
        "class DQN(nn.Module):\n",
        "\n",
        "    def __init__(self, n_observations, n_actions):\n",
        "        super(DQN, self).__init__()\n",
        "        self.layer1 = nn.Linear(n_observations, 128)\n",
        "        self.layer2 = nn.Linear(128, 128)\n",
        "        self.layer3 = nn.Linear(128, n_actions)\n",
        "\n",
        "    def forward(self, x):\n",
        "        x = F.relu(self.layer1(x))\n",
        "        x = F.relu(self.layer2(x))\n",
        "        return self.layer3(x)\n",
        "\n",
        "#\n",
        "#\n",
        "\n"
      ],
      "metadata": {
        "id": "zmkpNSGX025i"
      },
      "execution_count": 32,
      "outputs": []
    },
    {
      "cell_type": "code",
      "source": [
        "BATCH_SIZE = 64\n",
        "GAMMA = 0.99\n",
        "TAU = 0.005\n",
        "LR = 1e-4"
      ],
      "metadata": {
        "id": "HK6VcuwJ04sl"
      },
      "execution_count": 33,
      "outputs": []
    },
    {
      "cell_type": "code",
      "source": [
        "n_actions = 4\n",
        "n_observations = 2\n",
        "\n",
        "policy_net = DQN(n_observations, n_actions).to(device)\n",
        "target_net = DQN(n_observations, n_actions).to(device)\n",
        "target_net.load_state_dict(policy_net.state_dict())\n",
        "\n",
        "optimizer = optim.AdamW(policy_net.parameters(), lr=LR, amsgrad=True)\n",
        "\n",
        "memory = ReplayMemory(1500)\n",
        "\n",
        "\n",
        "eps_policy = 1\n",
        "eps_nn = 1\n",
        "\n",
        "\n",
        "def select_action(state, nn_action):\n",
        "    global eps_policy, eps_nn\n",
        "    sample = random.random()\n",
        "    steps_done =0\n",
        "    if(nn_action):\n",
        "        eps_threshold = eps_nn\n",
        "    else:\n",
        "        eps_threshold = eps_policy\n",
        "\n",
        "    if sample > eps_threshold:\n",
        "        with torch.no_grad():\n",
        "            if (not nn_action):\n",
        "              return policy_net(state).max(1).indices.view(1, 1)\n",
        "            else:\n",
        "                neural_list = model(state)\n",
        "                neural_probs = torch.softmax(neural_list, dim=1)\n",
        "                categorical_dist = torch.distributions.categorical.Categorical(neural_probs)\n",
        "                action = categorical_dist.sample()\n",
        "                return torch.tensor([[action.item()]], device=device, dtype=torch.long)\n",
        "    else:\n",
        "        return torch.tensor([[np.random.randint(0,4)]], device=device, dtype=torch.long)"
      ],
      "metadata": {
        "id": "ggEPD3Qt05Q3"
      },
      "execution_count": 34,
      "outputs": []
    },
    {
      "cell_type": "code",
      "source": [
        "# num_epoch = 20\n",
        "neural_data = []\n",
        "final_neural_data = []\n",
        "\n",
        "episode_durations = []\n",
        "episode_durations2 = []\n",
        "distances = []\n",
        "\n",
        "\n",
        "uncertainity_period = False\n",
        "after_uncertainity = False\n",
        "First_trained = -1\n",
        "converge_step = -1\n",
        "\n",
        "\n",
        "def plot_durations(show_result=False):\n",
        "    global uncertainity_period,First_trained,converge,converge_step,after_uncertainity\n",
        "\n",
        "    plt.figure(1)\n",
        "\n",
        "    durations_t = torch.tensor(episode_durations, dtype=torch.float)\n",
        "    durations2_t = torch.tensor(episode_durations2, dtype=torch.float)\n",
        "\n",
        "    if show_result:\n",
        "        plt.title('Result')\n",
        "    else:\n",
        "        plt.clf()\n",
        "        plt.title('Training...')\n",
        "\n",
        "    plt.xlabel('Episode')\n",
        "    plt.ylabel('Duration')\n",
        "\n",
        "    plt.plot(durations_t.numpy(), color='Green', label='Policy Net')\n",
        "\n",
        "    if(First_trained!=-1):\n",
        "        end_index = min(First_trained + len(durations2_t), len(durations_t))\n",
        "        plt.plot(range(First_trained, end_index), durations2_t[:end_index - First_trained].numpy(), color='blue', label='Neural Network')\n",
        "\n",
        "    plt.legend()\n",
        "\n",
        "    if(uncertainity_period):\n",
        "      if len(durations2_t) >= 10:\n",
        "        if all(duration >= -10 for duration in durations2_t[-10:]):\n",
        "              uncertainity_period = False\n",
        "              after_uncertainity = True\n",
        "\n",
        "    if len(durations_t) >= 10:\n",
        "        if all(duration >= -10 for duration in durations_t[-10:]):\n",
        "            converge_step = len(durations_t)\n",
        "\n",
        "    plt.pause(0.001)\n",
        "    if is_ipython:\n",
        "        if not show_result:\n",
        "            display.display(plt.gcf())\n",
        "            display.clear_output(wait=True)\n",
        "        else:\n",
        "            display.display(plt.gcf())\n"
      ],
      "metadata": {
        "id": "u56vnEwu07e1"
      },
      "execution_count": 35,
      "outputs": []
    },
    {
      "cell_type": "code",
      "source": [
        "def optimize_model():\n",
        "    if len(memory) < BATCH_SIZE:\n",
        "        return\n",
        "    transitions = memory.sample(BATCH_SIZE)\n",
        "    batch = Transition(*zip(*transitions))\n",
        "    non_final_mask = torch.tensor(tuple(map(lambda s: s is not None,\n",
        "                                          batch.next_state)), device=device, dtype=torch.bool)\n",
        "    non_final_next_states = torch.cat([s for s in batch.next_state\n",
        "                                                if s is not None])\n",
        "    state_batch = torch.cat(batch.state)\n",
        "    action_batch = torch.cat(batch.action)\n",
        "    reward_batch = torch.cat(batch.reward)\n",
        "    state_action_values = policy_net(state_batch).gather(1, action_batch)\n",
        "    next_state_values = torch.zeros(BATCH_SIZE, device=device)\n",
        "    with torch.no_grad():\n",
        "        next_state_values[non_final_mask] = target_net(non_final_next_states).max(1).values\n",
        "    expected_state_action_values = (next_state_values * GAMMA) + reward_batch\n",
        "    criterion = nn.SmoothL1Loss()\n",
        "    loss = criterion(state_action_values, expected_state_action_values.unsqueeze(1))\n",
        "    optimizer.zero_grad()\n",
        "    loss.backward()\n",
        "    torch.nn.utils.clip_grad_value_(policy_net.parameters(), 100)\n",
        "    optimizer.step()"
      ],
      "metadata": {
        "id": "MR3ME1tf095m"
      },
      "execution_count": 36,
      "outputs": []
    },
    {
      "cell_type": "code",
      "source": [
        "if torch.cuda.is_available():\n",
        "    num_episodes = 3000\n",
        "else:\n",
        "    num_episodes = 3000\n",
        "\n",
        "initial_states = [initGridPlayer() for _ in range(num_episodes)]\n"
      ],
      "metadata": {
        "id": "YGUIIC450_nx"
      },
      "execution_count": 37,
      "outputs": []
    },
    {
      "cell_type": "code",
      "source": [
        "dispGrid(initial_states[18])"
      ],
      "metadata": {
        "colab": {
          "base_uri": "https://localhost:8080/"
        },
        "id": "2anVMCVK1BJl",
        "outputId": "89355d78-b7ba-4cf5-83eb-7cb5885c9d61"
      },
      "execution_count": 38,
      "outputs": [
        {
          "output_type": "execute_result",
          "data": {
            "text/plain": [
              "array([[' ', ' ', ' ', 'W', ' ', ' '],\n",
              "       [' ', 'W', ' ', ' ', ' ', ' '],\n",
              "       [' ', ' ', 'W', ' ', 'W', 'P'],\n",
              "       [' ', ' ', '+', 'W', ' ', ' '],\n",
              "       [' ', 'W', ' ', ' ', ' ', ' '],\n",
              "       [' ', ' ', ' ', ' ', ' ', ' ']], dtype='<U2')"
            ]
          },
          "metadata": {},
          "execution_count": 38
        }
      ]
    },
    {
      "cell_type": "code",
      "source": [
        "def remember_best(neural_data):\n",
        "\n",
        "  remover = []\n",
        "  tensor_map = {}\n",
        "\n",
        "  for i in range(len(neural_data) - 1, -1, -1):\n",
        "\n",
        "      current_tensor, _ = neural_data[i]\n",
        "      current_tuple = (int(current_tensor[0][0].item()), int(current_tensor[0][1].item()))\n",
        "\n",
        "      if current_tuple in tensor_map:\n",
        "          tensor_map[current_tuple] += 1\n",
        "      else:\n",
        "          tensor_map[current_tuple] = 1\n",
        "\n",
        "      if(tensor_map[current_tuple]>1):\n",
        "        remover.append(i)\n",
        "\n",
        "  for index in (remover):\n",
        "      del neural_data[index]\n",
        "\n",
        "  return neural_data\n",
        "\n"
      ],
      "metadata": {
        "id": "MkCCI8py1CgK"
      },
      "execution_count": 39,
      "outputs": []
    },
    {
      "cell_type": "code",
      "source": [
        "def best(l1):\n",
        "\n",
        "  tensor_map = {}\n",
        "  remover = []\n",
        "  for _ in range(len(l1)):\n",
        "      remover.append(1)\n",
        "\n",
        "\n",
        "  for i in range(len(l1) - 1, -1, -1):\n",
        "\n",
        "      current_tensor, _ = l1[i]\n",
        "      current_tuple = (int(current_tensor[0][0].item()), int(current_tensor[0][1].item()))\n",
        "\n",
        "      if current_tuple in tensor_map:\n",
        "          tensor_map[current_tuple] += 1\n",
        "      else:\n",
        "          tensor_map[current_tuple] = 1\n",
        "\n",
        "      if(tensor_map[current_tuple]>1):\n",
        "        remover[i] = 0\n",
        "\n",
        "\n",
        "  return remover\n",
        "\n",
        "\n"
      ],
      "metadata": {
        "id": "NLCliJ-c1ELG"
      },
      "execution_count": 40,
      "outputs": []
    },
    {
      "cell_type": "code",
      "source": [
        "def train_nn():\n",
        "    global neural_data\n",
        "\n",
        "    neural_data = remember_best(neural_data)\n",
        "\n",
        "    final_neural_data.extend(neural_data)\n",
        "    for epoch in range(30):\n",
        "        for inputs, label in neural_data:\n",
        "            inputs = inputs.to(device)\n",
        "            target = torch.tensor(label, dtype=torch.long).unsqueeze(0).to(device)\n",
        "            outputs = model(inputs)\n",
        "            loss = crite(outputs, target)\n",
        "            opti.zero_grad()\n",
        "            loss.backward()\n",
        "            opti.step()\n",
        "\n",
        "    for epoch in range(15):\n",
        "      random.shuffle(final_neural_data)\n",
        "      for inputs, label in final_neural_data[-200:]:\n",
        "          inputs = inputs.to(device)\n",
        "          target = torch.tensor(label, dtype=torch.long).unsqueeze(0).to(device)\n",
        "          outputs = model(inputs)\n",
        "          loss = crite(outputs, target)\n",
        "          opti.zero_grad()\n",
        "          loss.backward()\n",
        "          opti.step()\n"
      ],
      "metadata": {
        "id": "huFTgzpJ1Fxd"
      },
      "execution_count": 41,
      "outputs": []
    },
    {
      "cell_type": "code",
      "source": [
        "percentPN = []"
      ],
      "metadata": {
        "id": "D_K-nc-31HVR"
      },
      "execution_count": 42,
      "outputs": []
    },
    {
      "cell_type": "code",
      "source": [
        "for i_episode in range(500):\n",
        "\n",
        "    #policy-net\n",
        "    policy_rew = 0\n",
        "    state = initial_states[i_episode]\n",
        "    x,y = findLoc(initial_states[i_episode], np.array([0,1,0]))[0]\n",
        "    reward = 0\n",
        "\n",
        "    l1= []\n",
        "\n",
        "\n",
        "    for t in range(50):\n",
        "        state2d  = getLoc(state,1)[0]\n",
        "        state2d = torch.tensor(list(state2d), dtype=torch.float32, device=device).unsqueeze(0)\n",
        "        action = select_action(state2d,False)\n",
        "        next_state = makeMove(state, action.item())\n",
        "        reward = getReward(next_state)\n",
        "        policy_rew += reward\n",
        "        reward = torch.tensor([reward], device=device)\n",
        "        next_state2d = getLoc(next_state,1)[0]\n",
        "        next_state2d = torch.tensor(list(next_state2d), dtype=torch.float32, device=device).unsqueeze(0)\n",
        "        if(not uncertainity_period):\n",
        "            memory.push(state2d, action, next_state2d, reward , lPN[i_episode][t])\n",
        "        neural_data.append((state2d,action.item()))\n",
        "        l1.append((state2d,action.item()))\n",
        "        state = next_state\n",
        "        optimize_model()\n",
        "        target_net_state_dict = target_net.state_dict()\n",
        "        policy_net_state_dict = policy_net.state_dict()\n",
        "        for key in policy_net_state_dict:\n",
        "            target_net_state_dict[key] = policy_net_state_dict[key]*TAU + target_net_state_dict[key]*(1-TAU)\n",
        "        target_net.load_state_dict(target_net_state_dict)\n",
        "\n",
        "        # if ((reward == 100) and (after_uncertainity == False)):\n",
        "        #     uncertainity_period = True\n",
        "        #     if First_trained == -1 :\n",
        "        #         First_trained = i_episode\n",
        "        #     train_nn()\n",
        "\n",
        "\n",
        "\n",
        "        if ((reward == 100) or (t==49)):\n",
        "            neural_data.clear()\n",
        "            difference = policy_rew - correct_rewards[x,y]\n",
        "            episode_durations.append(difference)\n",
        "            if(eps_policy>0.04):\n",
        "              eps_policy -= (1/25)\n",
        "            break\n",
        "\n",
        "\n",
        "\n",
        "    # if(uncertainity_period):\n",
        "    #     neural_data.clear()\n",
        "    #     nn_rew = 0\n",
        "    #     state_n  = initial_states[i_episode]\n",
        "    #     for t in range(50):\n",
        "    #       state_n2d = getLoc(state_n,1)[0]\n",
        "    #       state_n2d = torch.tensor(list(state_n2d), dtype=torch.float32, device=device).unsqueeze(0)\n",
        "    #       action = select_action(state_n2d,True)\n",
        "    #       next_state = makeMove(state_n, action.item())\n",
        "    #       reward = getReward(next_state)\n",
        "    #       nn_rew += reward\n",
        "    #       reward = torch.tensor([reward], device=device)\n",
        "    #       next_state2d = getLoc(next_state,1)[0]\n",
        "    #       next_state2d = torch.tensor(list(next_state2d), dtype=torch.float32, device=device).unsqueeze(0)\n",
        "    #       memory.push(state_n2d, action, next_state2d, reward)\n",
        "    #       neural_data.append((state_n2d,action.item()))\n",
        "    #       state_n = next_state\n",
        "\n",
        "    #       if ((reward == 100)):\n",
        "    #           train_nn()\n",
        "\n",
        "    #       if ((reward == 100) or (t==49)):\n",
        "    #           neural_data.clear()\n",
        "    #           if(eps_nn>0.04):\n",
        "    #             eps_nn -= (1/25)\n",
        "    #           difference = nn_rew - correct_rewards[x,y]\n",
        "    #           episode_durations2.append(difference)\n",
        "    #           break\n",
        "    plot_durations()\n",
        "    total_transitions = len(memory)\n",
        "    flag_1_count = sum(1 for transition in memory.memory if transition.flag == 1)\n",
        "    percentage = (flag_1_count / total_transitions) * 100 if total_transitions != 0 else 0\n",
        "    percentPN.append(int(percentage))\n",
        "    # if(reward==100):\n",
        "    #   remover = best(l1)\n",
        "    # else:\n",
        "    #   remover = []\n",
        "    #   for _ in range(len(l1)):\n",
        "    #       remover.append(0)\n",
        "    # lPN.append(remover)\n",
        "\n",
        "\n",
        "\n",
        "print('Complete')\n",
        "plot_durations(show_result=True)\n",
        "plt.ioff()\n",
        "plt.show()"
      ],
      "metadata": {
        "colab": {
          "base_uri": "https://localhost:8080/",
          "height": 524
        },
        "id": "uY_CxOQ81JP5",
        "outputId": "f2b84bfd-b35e-4a35-be32-ca677dcf7b96"
      },
      "execution_count": 43,
      "outputs": [
        {
          "output_type": "stream",
          "name": "stdout",
          "text": [
            "Complete\n"
          ]
        },
        {
          "output_type": "display_data",
          "data": {
            "text/plain": [
              "<Figure size 640x480 with 1 Axes>"
            ],
            "image/png": "[encoded data removed]"
          },
          "metadata": {}
        },
        {
          "output_type": "display_data",
          "data": {
            "text/plain": [
              "<Figure size 640x480 with 0 Axes>"
            ]
          },
          "metadata": {}
        },
        {
          "output_type": "display_data",
          "data": {
            "text/plain": [
              "<Figure size 640x480 with 0 Axes>"
            ]
          },
          "metadata": {}
        }
      ]
    },
    {
      "cell_type": "code",
      "source": [
        "file_path = str(seed) + \"_PN(per).txt\"\n",
        "with open(file_path, \"w\") as file:\n",
        "    for index, item in enumerate(percentPN):\n",
        "        file.write(f\"{index},{item}\\n\")"
      ],
      "metadata": {
        "id": "jHwOZCE41Mf8"
      },
      "execution_count": 44,
      "outputs": []
    }
  ],
  "metadata": {
    "colab": {
      "provenance": []
    },
    "kernelspec": {
      "display_name": "Python 3",
      "name": "python3"
    },
    "language_info": {
      "codemirror_mode": {
        "name": "ipython",
        "version": 3
      },
      "file_extension": ".py",
      "mimetype": "text/x-python",
      "name": "python",
      "nbconvert_exporter": "python",
      "pygments_lexer": "ipython3",
      "version": "3.8.16"
    }
  },
  "nbformat": 4,
  "nbformat_minor": 0
}