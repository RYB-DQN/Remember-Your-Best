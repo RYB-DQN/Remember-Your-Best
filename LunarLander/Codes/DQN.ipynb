{
  "cells": [
    {
      "cell_type": "code",
      "execution_count": null,
      "metadata": {
        "colab": {
          "base_uri": "https://localhost:8080/"
        },
        "id": "nCVhwQ9UOjOF",
        "outputId": "7611c7e6-8591-43e3-9471-ca62e4dedbd5"
      },
      "outputs": [
        {
          "name": "stdout",
          "output_type": "stream",
          "text": [
            "Requirement already satisfied: swig in /usr/local/lib/python3.10/dist-packages (4.2.1)\n",
            "Requirement already satisfied: gymnasium[box2d] in /usr/local/lib/python3.10/dist-packages (0.29.1)\n",
            "Requirement already satisfied: numpy>=1.21.0 in /usr/local/lib/python3.10/dist-packages (from gymnasium[box2d]) (1.25.2)\n",
            "Requirement already satisfied: cloudpickle>=1.2.0 in /usr/local/lib/python3.10/dist-packages (from gymnasium[box2d]) (2.2.1)\n",
            "Requirement already satisfied: typing-extensions>=4.3.0 in /usr/local/lib/python3.10/dist-packages (from gymnasium[box2d]) (4.11.0)\n",
            "Requirement already satisfied: farama-notifications>=0.0.1 in /usr/local/lib/python3.10/dist-packages (from gymnasium[box2d]) (0.0.4)\n",
            "Requirement already satisfied: box2d-py==2.3.5 in /usr/local/lib/python3.10/dist-packages (from gymnasium[box2d]) (2.3.5)\n",
            "Requirement already satisfied: pygame>=2.1.3 in /usr/local/lib/python3.10/dist-packages (from gymnasium[box2d]) (2.5.2)\n",
            "Requirement already satisfied: swig==4.* in /usr/local/lib/python3.10/dist-packages (from gymnasium[box2d]) (4.2.1)\n"
          ]
        }
      ],
      "source": [
        "!pip install swig\n",
        "!pip install gymnasium[box2d]"
      ]
    },
    {
      "cell_type": "code",
      "execution_count": null,
      "metadata": {
        "id": "KfTQETGAJvGb"
      },
      "outputs": [],
      "source": [
        "import gymnasium as gym\n",
        "import math\n",
        "import random\n",
        "import matplotlib\n",
        "import matplotlib.pyplot as plt\n",
        "from collections import namedtuple, deque\n",
        "from itertools import count\n",
        "\n",
        "import torch\n",
        "import torch.nn as nn\n",
        "import torch.optim as optim\n",
        "import torch.nn.functional as F\n",
        "import torch.nn.utils as torch_utils\n",
        "from torch.utils.data import Dataset, DataLoader\n",
        "import numpy as np\n",
        "\n",
        "env = gym.make(\"LunarLander-v2\")\n",
        "\n",
        "seed = 719\n"
      ]
    },
    {
      "cell_type": "code",
      "execution_count": null,
      "metadata": {
        "colab": {
          "base_uri": "https://localhost:8080/"
        },
        "id": "WGv-6M_nO_YE",
        "outputId": "ed5de6bf-9fa4-469f-8e98-16d45a644035"
      },
      "outputs": [
        {
          "data": {
            "text/plain": [
              "719"
            ]
          },
          "execution_count": 70,
          "metadata": {},
          "output_type": "execute_result"
        }
      ],
      "source": [
        "seed"
      ]
    },
    {
      "cell_type": "code",
      "execution_count": null,
      "metadata": {
        "id": "O_FPNFli84Gj"
      },
      "outputs": [],
      "source": [
        "random.seed(seed)\n",
        "np.random.seed(seed)\n",
        "torch.manual_seed(seed)\n",
        "torch.cuda.manual_seed(seed)\n",
        "torch.backends.cudnn.deterministic = True\n",
        "generator = torch.Generator().manual_seed(seed)\n",
        "\n",
        "is_ipython = 'inline' in matplotlib.get_backend()\n",
        "if is_ipython:\n",
        "    from IPython import display\n",
        "\n",
        "plt.ion()\n",
        "\n",
        "\n",
        "device = torch.device(\"cuda\" if torch.cuda.is_available() else \"cpu\")"
      ]
    },
    {
      "cell_type": "code",
      "execution_count": null,
      "metadata": {
        "colab": {
          "base_uri": "https://localhost:8080/"
        },
        "id": "H74Puz5LViLi",
        "outputId": "ac0c5659-6330-4efa-9dc1-b6309ca38b2d"
      },
      "outputs": [
        {
          "data": {
            "text/plain": [
              "SimpleClassifier(\n",
              "  (fc1): Linear(in_features=8, out_features=64, bias=True)\n",
              "  (fc2): Linear(in_features=64, out_features=64, bias=True)\n",
              "  (fc3): Linear(in_features=64, out_features=4, bias=True)\n",
              ")"
            ]
          },
          "execution_count": 72,
          "metadata": {},
          "output_type": "execute_result"
        }
      ],
      "source": [
        "class SimpleClassifier(nn.Module):\n",
        "    def __init__(self, input_size, hidden_size, output_size):\n",
        "        super(SimpleClassifier, self).__init__()\n",
        "        self.fc1 = nn.Linear(input_size, hidden_size)\n",
        "        self.fc2 = nn.Linear(hidden_size, hidden_size)\n",
        "        self.fc3 = nn.Linear(hidden_size,output_size)\n",
        "\n",
        "    def forward(self, x):\n",
        "        x = torch.relu(self.fc1(x))\n",
        "        x = torch.relu(self.fc2(x))\n",
        "        x = self.fc3(x)\n",
        "        return x\n",
        "\n",
        "\n",
        "state, info = env.reset()\n",
        "input_size = len(state)\n",
        "hidden_size = 64\n",
        "output_size = env.action_space.n\n",
        "learning_rate = 0.001\n",
        "# clip_value = 1.0\n",
        "\n",
        "device = torch.device(\"cuda\" if torch.cuda.is_available() else \"cpu\")\n",
        "\n",
        "model = SimpleClassifier(input_size, hidden_size, output_size).to(device)\n",
        "crite = nn.CrossEntropyLoss()\n",
        "opti = optim.Adam(model.parameters(), lr=learning_rate)\n",
        "model.to(device)\n"
      ]
    },
    {
      "cell_type": "code",
      "execution_count": null,
      "metadata": {
        "id": "B6PAsVvgLT-S"
      },
      "outputs": [],
      "source": [
        "Transition = namedtuple('Transition',\n",
        "                        ('state', 'action', 'next_state', 'reward'))\n",
        "\n",
        "\n",
        "class ReplayMemory(object):\n",
        "\n",
        "    def __init__(self, capacity):\n",
        "        self.memory = deque([], maxlen=capacity)\n",
        "\n",
        "    def push(self, *args):\n",
        "        \"\"\"Save a transition\"\"\"\n",
        "        self.memory.append(Transition(*args))\n",
        "\n",
        "    def sample(self, batch_size):\n",
        "        return random.sample(self.memory, batch_size)\n",
        "\n",
        "    def __len__(self):\n",
        "        return len(self.memory)\n",
        "\n",
        "\n",
        "#\n",
        "#\n",
        "\n",
        "\n",
        "class DQN(nn.Module):\n",
        "\n",
        "    def __init__(self, n_observations, n_actions):\n",
        "        super(DQN, self).__init__()\n",
        "        self.layer1 = nn.Linear(n_observations, 128)\n",
        "        self.layer2 = nn.Linear(128, 128)\n",
        "        self.layer3 = nn.Linear(128, n_actions)\n",
        "\n",
        "    def forward(self, x):\n",
        "        x = F.relu(self.layer1(x))\n",
        "        x = F.relu(self.layer2(x))\n",
        "        return self.layer3(x)\n",
        "\n",
        "#\n",
        "#\n",
        "\n"
      ]
    },
    {
      "cell_type": "code",
      "execution_count": null,
      "metadata": {
        "id": "Hc5S-tYRLsU-"
      },
      "outputs": [],
      "source": [
        "BATCH_SIZE = 64\n",
        "GAMMA = 0.99\n",
        "# EPS_START = 0.9\n",
        "# EPS_END = 0.05\n",
        "# EPS_DECAY = 1000\n",
        "TAU = 0.005\n",
        "LR = 1e-4"
      ]
    },
    {
      "cell_type": "code",
      "execution_count": null,
      "metadata": {
        "id": "3pAPhG17Lx5m"
      },
      "outputs": [],
      "source": [
        "n_actions = env.action_space.n\n",
        "state, info = env.reset()\n",
        "n_observations = len(state)\n",
        "\n",
        "policy_net = DQN(n_observations, n_actions).to(device)\n",
        "target_net = DQN(n_observations, n_actions).to(device)\n",
        "target_net.load_state_dict(policy_net.state_dict())\n",
        "\n",
        "optimizer = optim.AdamW(policy_net.parameters(), lr=LR, amsgrad=True)\n",
        "\n",
        "memory = ReplayMemory(50000)\n",
        "\n",
        "\n",
        "eps_policy = 1\n",
        "# eps_nn = 1\n",
        "\n",
        "\n",
        "def select_action(state, nn_action):\n",
        "    global eps_policy, eps_nn\n",
        "    sample = random.random()\n",
        "    steps_done =0\n",
        "    # if(nn_action):\n",
        "    #     eps_threshold = eps_policy\n",
        "    # else:\n",
        "    #     eps_threshold = eps_policy\n",
        "    eps_threshold = eps_policy\n",
        "\n",
        "    if sample > eps_threshold:\n",
        "        with torch.no_grad():\n",
        "            if (not nn_action):\n",
        "              return policy_net(state).max(1).indices.view(1, 1)\n",
        "            else:\n",
        "                neural_list = model(state)\n",
        "                neural_probs = torch.softmax(neural_list, dim=1)\n",
        "                categorical_dist = torch.distributions.categorical.Categorical(neural_probs)\n",
        "                action = categorical_dist.sample()\n",
        "                return torch.tensor([[action.item()]], device=device, dtype=torch.long)\n",
        "    else:\n",
        "        return torch.tensor([[np.random.randint(0,4)]], device=device, dtype=torch.long)"
      ]
    },
    {
      "cell_type": "code",
      "execution_count": null,
      "metadata": {
        "id": "SsMPNyVqMBds"
      },
      "outputs": [],
      "source": [
        "neural_epi = 0\n",
        "neural_data = []\n",
        "final_neural_data = []\n",
        "episode_durations = []\n",
        "episode_durations2 = []\n",
        "# trained_count = 0\n",
        "\n",
        "\n",
        "Training_period = False\n",
        "data_append_period = False\n",
        "after_uncertainity = False\n",
        "First_trained = -1\n",
        "First_used = -1\n",
        "converge_step = -1\n",
        "\n",
        "\n",
        "def plot_durations(show_result=False):\n",
        "    global Training_period, data_append_period, after_uncertainity, First_trained, First_used, converge_step\n",
        "\n",
        "    plt.figure(1)\n",
        "\n",
        "    durations_t = torch.tensor(episode_durations, dtype=torch.float)\n",
        "    durations2_t = torch.tensor(episode_durations2, dtype=torch.float)\n",
        "\n",
        "    if show_result:\n",
        "        plt.title('Result')\n",
        "    else:\n",
        "        plt.clf()\n",
        "        plt.title('Training...')\n",
        "\n",
        "    plt.xlabel('Episode')\n",
        "    plt.ylabel('Duration')\n",
        "\n",
        "    plt.plot(durations_t.numpy(), color='Green', label='Policy Net')\n",
        "\n",
        "    if(First_trained!=-1):\n",
        "        end_index = min(First_trained + len(durations2_t), len(durations_t))\n",
        "        plt.plot(range(First_trained, end_index), durations2_t[:end_index - First_trained].numpy(), color='blue', label='Neural Network')\n",
        "\n",
        "    plt.legend()\n",
        "\n",
        "    #Training\n",
        "    if ((Training_period) and durations2_t[-1:]>=200):\n",
        "        Training_period = False\n",
        "        data_append_period = True\n",
        "        if(First_used == -1):\n",
        "            First_used = len(durations_t)\n",
        "\n",
        "    #data-append\n",
        "    if((data_append_period)  and ((len(durations2_t))-(First_used-First_trained)>=60)):\n",
        "        data_append_period = False\n",
        "        after_uncertainity = True\n",
        "\n",
        "    #converge\n",
        "    if (len(durations_t) >= 10) and (all(reward > 200 for reward in durations_t[-10:])):\n",
        "        converge_step = len(durations_t)\n",
        "\n",
        "    plt.pause(0.001)\n",
        "    if is_ipython:\n",
        "        if not show_result:\n",
        "            display.display(plt.gcf())\n",
        "            display.clear_output(wait=True)\n",
        "        else:\n",
        "            display.display(plt.gcf())\n"
      ]
    },
    {
      "cell_type": "code",
      "execution_count": null,
      "metadata": {
        "id": "atTGzqT_MoYg"
      },
      "outputs": [],
      "source": [
        "def optimize_model():\n",
        "    if len(memory) < BATCH_SIZE:\n",
        "        return\n",
        "    transitions = memory.sample(BATCH_SIZE)\n",
        "    batch = Transition(*zip(*transitions))\n",
        "    non_final_mask = torch.tensor(tuple(map(lambda s: s is not None,\n",
        "                                          batch.next_state)), device=device, dtype=torch.bool)\n",
        "    non_final_next_states = torch.cat([s for s in batch.next_state\n",
        "                                                if s is not None])\n",
        "    state_batch = torch.cat(batch.state)\n",
        "    action_batch = torch.cat(batch.action)\n",
        "    reward_batch = torch.cat(batch.reward)\n",
        "    state_action_values = policy_net(state_batch).gather(1, action_batch)\n",
        "    next_state_values = torch.zeros(BATCH_SIZE, device=device)\n",
        "    with torch.no_grad():\n",
        "        next_state_values[non_final_mask] = target_net(non_final_next_states).max(1).values\n",
        "    expected_state_action_values = (next_state_values * GAMMA) + reward_batch\n",
        "    criterion = nn.SmoothL1Loss()\n",
        "    loss = criterion(state_action_values, expected_state_action_values.unsqueeze(1))\n",
        "    optimizer.zero_grad()\n",
        "    loss.backward()\n",
        "    torch.nn.utils.clip_grad_value_(policy_net.parameters(), 100)\n",
        "    optimizer.step()"
      ]
    },
    {
      "cell_type": "code",
      "execution_count": null,
      "metadata": {
        "id": "ZePJ2yTnKntB"
      },
      "outputs": [],
      "source": [
        "# up/down/left/right"
      ]
    },
    {
      "cell_type": "code",
      "execution_count": null,
      "metadata": {
        "id": "lvQCgC5xlbGV"
      },
      "outputs": [],
      "source": [
        "if torch.cuda.is_available():\n",
        "    num_episodes = 500\n",
        "else:\n",
        "    num_episodes = 500\n",
        "\n",
        "# seed_array = [random.randint(1, 1000) for _ in range(num_episodes)]    #same initial state seeds for all episodes."
      ]
    },
    {
      "cell_type": "code",
      "execution_count": null,
      "metadata": {
        "id": "kqnVbNvjGYyy"
      },
      "outputs": [],
      "source": [
        "# policy_ind = []\n",
        "# nn_ind = []"
      ]
    },
    {
      "cell_type": "code",
      "execution_count": null,
      "metadata": {
        "id": "TBIHYkpidSRo"
      },
      "outputs": [],
      "source": [
        "def train_all():\n",
        "    # global trained_count\n",
        "    # trained_count += 1\n",
        "    final_neural_data.extend(neural_data)\n",
        "    data_loader1 = torch.utils.data.DataLoader(neural_data, batch_size= 8, shuffle=True)\n",
        "    data_loader2 = torch.utils.data.DataLoader(final_neural_data[-1000:], batch_size= 32, shuffle=True)\n",
        "\n",
        "    for epoch in range(50):\n",
        "        for inputs, labels in data_loader1:\n",
        "            inputs = inputs.to(device)\n",
        "            labels = labels.to(device)\n",
        "            if inputs.size(0) == 1:\n",
        "                inputs = inputs.squeeze(0)\n",
        "            outputs = model(inputs)\n",
        "            if outputs.dim() > 2:\n",
        "              outputs = outputs.squeeze()\n",
        "            loss = crite(outputs, labels)\n",
        "            opti.zero_grad()\n",
        "            loss.backward()\n",
        "            opti.step()\n",
        "    for epoch in range(200):\n",
        "        for inputs, labels in data_loader2:\n",
        "            inputs = inputs.to(device)\n",
        "            labels = labels.to(device)\n",
        "            if inputs.size(0) == 1:\n",
        "                inputs = inputs.squeeze(0)\n",
        "            outputs = model(inputs)\n",
        "            if outputs.dim() > 2:\n",
        "              outputs = outputs.squeeze()\n",
        "            loss = crite(outputs, labels)\n",
        "            opti.zero_grad()\n",
        "            loss.backward()\n",
        "            opti.step()\n",
        "\n",
        "\n",
        "\n"
      ]
    },
    {
      "cell_type": "code",
      "execution_count": null,
      "metadata": {
        "colab": {
          "base_uri": "https://localhost:8080/",
          "height": 526
        },
        "id": "Pboyp0QYnuqb",
        "outputId": "31223af4-ab65-4aea-9fce-b5cff667e69e"
      },
      "outputs": [
        {
          "name": "stdout",
          "output_type": "stream",
          "text": [
            "Complete\n"
          ]
        },
        {
          "data": {
            "image/png": "[encoded data removed]",
            "text/plain": [
              "<Figure size 640x480 with 1 Axes>"
            ]
          },
          "metadata": {},
          "output_type": "display_data"
        },
        {
          "data": {
            "text/plain": [
              "<Figure size 640x480 with 0 Axes>"
            ]
          },
          "metadata": {},
          "output_type": "display_data"
        },
        {
          "data": {
            "text/plain": [
              "<Figure size 640x480 with 0 Axes>"
            ]
          },
          "metadata": {},
          "output_type": "display_data"
        }
      ],
      "source": [
        "for i_episode in range(num_episodes):\n",
        "    # if converge_step != -1:\n",
        "    #   print(\"Converge at step\",converge_step)\n",
        "    #   break\n",
        "\n",
        "    #policy-net\n",
        "    policy_rew = 0\n",
        "    neural_data.clear()\n",
        "    state, info = env.reset(seed = seed)\n",
        "    state = torch.tensor(state, dtype=torch.float32, device=device).unsqueeze(0)\n",
        "\n",
        "    for t in count():\n",
        "        action = select_action(state,False)\n",
        "        observation, reward, terminated, truncated, _ = env.step(action.item())\n",
        "        reward = torch.tensor([reward], device=device)\n",
        "        policy_rew += reward\n",
        "        done = terminated or truncated\n",
        "        if terminated:\n",
        "            next_state = None\n",
        "        else:\n",
        "            next_state = torch.tensor(observation, dtype=torch.float32, device=device).unsqueeze(0)\n",
        "        if(not data_append_period):\n",
        "            memory.push(state, action, next_state, reward)\n",
        "        neural_data.append((state,action.item()))\n",
        "        state = next_state\n",
        "        optimize_model()\n",
        "        target_net_state_dict = target_net.state_dict()\n",
        "        policy_net_state_dict = policy_net.state_dict()\n",
        "        for key in policy_net_state_dict:\n",
        "            target_net_state_dict[key] = policy_net_state_dict[key]*TAU + target_net_state_dict[key]*(1-TAU)\n",
        "        target_net.load_state_dict(target_net_state_dict)\n",
        "\n",
        "        # if (done) and (policy_rew>=neural_epi) and (after_uncertainity == False):\n",
        "        #     train_all()\n",
        "        #     neural_epi = policy_rew\n",
        "        #     if First_trained == -1 :\n",
        "        #         First_trained = i_episode\n",
        "        #     if (not Training_period) and (not data_append_period):\n",
        "        #         Training_period = True\n",
        "        #     # if trained_count >= 4 :\n",
        "\n",
        "        if (done) :\n",
        "            episode_durations.append(policy_rew)\n",
        "            if eps_policy > 0.05 :\n",
        "                  eps_policy -= (1/100)\n",
        "            break\n",
        "\n",
        "\n",
        "\n",
        "    # if(Training_period or data_append_period):\n",
        "    #     neural_data.clear()\n",
        "    #     nn_rew = 0\n",
        "    #     state_n, info = env.reset(seed = seed)\n",
        "    #     state_n = torch.tensor(state_n, dtype=torch.float32, device=device).unsqueeze(0)\n",
        "    #     for t in count():\n",
        "    #       action = select_action(state_n,True)\n",
        "    #       observation, reward, terminated, truncated, _ = env.step(action.item())\n",
        "    #       reward = torch.tensor([reward], device=device)\n",
        "    #       nn_rew += reward\n",
        "    #       done = terminated or truncated\n",
        "    #       if terminated:\n",
        "    #           next_state = None\n",
        "    #       else:\n",
        "    #           next_state = torch.tensor(observation, dtype=torch.float32, device=device).unsqueeze(0)\n",
        "    #       if data_append_period:\n",
        "    #           memory.push(state_n, action, next_state, reward)\n",
        "    #       neural_data.append((state_n,action.item()))\n",
        "    #       state_n = next_state\n",
        "\n",
        "    #       if (done) and (nn_rew >= neural_epi):\n",
        "    #           train_all()\n",
        "    #           neural_epi = nn_rew\n",
        "\n",
        "    #       if (done):\n",
        "    #           episode_durations2.append(nn_rew)\n",
        "    #           # if eps_nn > 0.05 :\n",
        "    #           #     eps_nn -= (1/50)\n",
        "    #           break\n",
        "    plot_durations()\n",
        "\n",
        "\n",
        "\n",
        "print('Complete')\n",
        "plot_durations(show_result=True)\n",
        "plt.ioff()\n",
        "plt.show()"
      ]
    },
    {
      "cell_type": "code",
      "execution_count": null,
      "metadata": {
        "id": "a4YPXXWpFtcJ"
      },
      "outputs": [],
      "source": []
    },
    {
      "cell_type": "code",
      "execution_count": null,
      "metadata": {
        "colab": {
          "base_uri": "https://localhost:8080/"
        },
        "id": "JRHrt7qMXb3Q",
        "outputId": "38724176-7861-43d9-f36c-e190b0a8ac07"
      },
      "outputs": [
        {
          "name": "stdout",
          "output_type": "stream",
          "text": [
            "110\n"
          ]
        }
      ],
      "source": [
        "for i in range(12, len(episode_durations)):\n",
        "    avg = sum(episode_durations[i-10:i]) / 10\n",
        "    if avg >= 200:\n",
        "        print(i)\n",
        "        break\n"
      ]
    },
    {
      "cell_type": "code",
      "execution_count": null,
      "metadata": {
        "id": "PmWvvBmZXb0V"
      },
      "outputs": [],
      "source": [
        "file_path = str(seed)+\"_PN.txt\"\n",
        "with open(file_path, \"w\") as file:\n",
        "    for index, item in enumerate(episode_durations):\n",
        "        file.write(f\"{index},{item}\\n\")"
      ]
    },
    {
      "cell_type": "code",
      "execution_count": null,
      "metadata": {
        "id": "hfM4NtvxXbrO"
      },
      "outputs": [],
      "source": []
    }
  ],
  "metadata": {
    "colab": {
      "provenance": []
    },
    "kernelspec": {
      "display_name": "Python 3",
      "name": "python3"
    },
    "language_info": {
      "codemirror_mode": {
        "name": "ipython",
        "version": 3
      },
      "file_extension": ".py",
      "mimetype": "text/x-python",
      "name": "python",
      "nbconvert_exporter": "python",
      "pygments_lexer": "ipython3",
      "version": "3.8.16"
    }
  },
  "nbformat": 4,
  "nbformat_minor": 0
}
